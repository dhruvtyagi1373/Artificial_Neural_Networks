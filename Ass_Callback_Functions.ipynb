{
 "cells": [
  {
   "cell_type": "markdown",
   "id": "bdfa51fb-af56-493e-8e77-20631fd3d0e9",
   "metadata": {},
   "source": [
    "## Q1. Install and load the latest versions of TensorFlow and Keras. Print their versions."
   ]
  },
  {
   "cell_type": "code",
   "execution_count": 1,
   "id": "0152d7a8-d4e9-4fda-bfe1-6c9d1648712a",
   "metadata": {},
   "outputs": [
    {
     "name": "stdout",
     "output_type": "stream",
     "text": [
      "Collecting tensorflow\n",
      "  Downloading tensorflow-2.13.0-cp310-cp310-manylinux_2_17_x86_64.manylinux2014_x86_64.whl (524.1 MB)\n",
      "\u001b[2K     \u001b[90m━━━━━━━━━━━━━━━━━━━━━━━━━━━━━━━━━━━━━━━\u001b[0m \u001b[32m524.1/524.1 MB\u001b[0m \u001b[31m3.1 MB/s\u001b[0m eta \u001b[36m0:00:00\u001b[0m00:01\u001b[0m00:01\u001b[0m\n",
      "\u001b[?25hRequirement already satisfied: packaging in /opt/conda/lib/python3.10/site-packages (from tensorflow) (22.0)\n",
      "Collecting tensorflow-io-gcs-filesystem>=0.23.1\n",
      "  Downloading tensorflow_io_gcs_filesystem-0.34.0-cp310-cp310-manylinux_2_12_x86_64.manylinux2010_x86_64.whl (2.4 MB)\n",
      "\u001b[2K     \u001b[90m━━━━━━━━━━━━━━━━━━━━━━━━━━━━━━━━━━━━━━━━\u001b[0m \u001b[32m2.4/2.4 MB\u001b[0m \u001b[31m72.3 MB/s\u001b[0m eta \u001b[36m0:00:00\u001b[0m\n",
      "\u001b[?25hRequirement already satisfied: setuptools in /opt/conda/lib/python3.10/site-packages (from tensorflow) (65.5.1)\n",
      "Collecting libclang>=13.0.0\n",
      "  Downloading libclang-16.0.6-py2.py3-none-manylinux2010_x86_64.whl (22.9 MB)\n",
      "\u001b[2K     \u001b[90m━━━━━━━━━━━━━━━━━━━━━━━━━━━━━━━━━━━━━━━━\u001b[0m \u001b[32m22.9/22.9 MB\u001b[0m \u001b[31m50.5 MB/s\u001b[0m eta \u001b[36m0:00:00\u001b[0m00:01\u001b[0m00:01\u001b[0m\n",
      "\u001b[?25hRequirement already satisfied: typing-extensions<4.6.0,>=3.6.6 in /opt/conda/lib/python3.10/site-packages (from tensorflow) (4.4.0)\n",
      "Collecting tensorboard<2.14,>=2.13\n",
      "  Downloading tensorboard-2.13.0-py3-none-any.whl (5.6 MB)\n",
      "\u001b[2K     \u001b[90m━━━━━━━━━━━━━━━━━━━━━━━━━━━━━━━━━━━━━━━━\u001b[0m \u001b[32m5.6/5.6 MB\u001b[0m \u001b[31m74.3 MB/s\u001b[0m eta \u001b[36m0:00:00\u001b[0m:00:01\u001b[0m00:01\u001b[0m\n",
      "\u001b[?25hCollecting tensorflow-estimator<2.14,>=2.13.0\n",
      "  Downloading tensorflow_estimator-2.13.0-py2.py3-none-any.whl (440 kB)\n",
      "\u001b[2K     \u001b[90m━━━━━━━━━━━━━━━━━━━━━━━━━━━━━━━━━━━━━━\u001b[0m \u001b[32m440.8/440.8 kB\u001b[0m \u001b[31m44.2 MB/s\u001b[0m eta \u001b[36m0:00:00\u001b[0m\n",
      "\u001b[?25hRequirement already satisfied: six>=1.12.0 in /opt/conda/lib/python3.10/site-packages (from tensorflow) (1.16.0)\n",
      "Collecting opt-einsum>=2.3.2\n",
      "  Downloading opt_einsum-3.3.0-py3-none-any.whl (65 kB)\n",
      "\u001b[2K     \u001b[90m━━━━━━━━━━━━━━━━━━━━━━━━━━━━━━━━━━━━━━━━\u001b[0m \u001b[32m65.5/65.5 kB\u001b[0m \u001b[31m13.2 MB/s\u001b[0m eta \u001b[36m0:00:00\u001b[0m\n",
      "\u001b[?25hCollecting termcolor>=1.1.0\n",
      "  Downloading termcolor-2.3.0-py3-none-any.whl (6.9 kB)\n",
      "Collecting absl-py>=1.0.0\n",
      "  Downloading absl_py-1.4.0-py3-none-any.whl (126 kB)\n",
      "\u001b[2K     \u001b[90m━━━━━━━━━━━━━━━━━━━━━━━━━━━━━━━━━━━━━━\u001b[0m \u001b[32m126.5/126.5 kB\u001b[0m \u001b[31m21.5 MB/s\u001b[0m eta \u001b[36m0:00:00\u001b[0m\n",
      "\u001b[?25hCollecting keras<2.14,>=2.13.1\n",
      "  Downloading keras-2.13.1-py3-none-any.whl (1.7 MB)\n",
      "\u001b[2K     \u001b[90m━━━━━━━━━━━━━━━━━━━━━━━━━━━━━━━━━━━━━━━━\u001b[0m \u001b[32m1.7/1.7 MB\u001b[0m \u001b[31m69.4 MB/s\u001b[0m eta \u001b[36m0:00:00\u001b[0m\n",
      "\u001b[?25hCollecting flatbuffers>=23.1.21\n",
      "  Downloading flatbuffers-23.5.26-py2.py3-none-any.whl (26 kB)\n",
      "Requirement already satisfied: protobuf!=4.21.0,!=4.21.1,!=4.21.2,!=4.21.3,!=4.21.4,!=4.21.5,<5.0.0dev,>=3.20.3 in /opt/conda/lib/python3.10/site-packages (from tensorflow) (4.21.11)\n",
      "Collecting gast<=0.4.0,>=0.2.1\n",
      "  Downloading gast-0.4.0-py3-none-any.whl (9.8 kB)\n",
      "Collecting astunparse>=1.6.0\n",
      "  Downloading astunparse-1.6.3-py2.py3-none-any.whl (12 kB)\n",
      "Collecting wrapt>=1.11.0\n",
      "  Downloading wrapt-1.15.0-cp310-cp310-manylinux_2_5_x86_64.manylinux1_x86_64.manylinux_2_17_x86_64.manylinux2014_x86_64.whl (78 kB)\n",
      "\u001b[2K     \u001b[90m━━━━━━━━━━━━━━━━━━━━━━━━━━━━━━━━━━━━━━━━\u001b[0m \u001b[32m78.4/78.4 kB\u001b[0m \u001b[31m8.4 MB/s\u001b[0m eta \u001b[36m0:00:00\u001b[0m\n",
      "\u001b[?25hRequirement already satisfied: numpy<=1.24.3,>=1.22 in /opt/conda/lib/python3.10/site-packages (from tensorflow) (1.23.5)\n",
      "Collecting google-pasta>=0.1.1\n",
      "  Downloading google_pasta-0.2.0-py3-none-any.whl (57 kB)\n",
      "\u001b[2K     \u001b[90m━━━━━━━━━━━━━━━━━━━━━━━━━━━━━━━━━━━━━━━━\u001b[0m \u001b[32m57.5/57.5 kB\u001b[0m \u001b[31m8.6 MB/s\u001b[0m eta \u001b[36m0:00:00\u001b[0m\n",
      "\u001b[?25hCollecting grpcio<2.0,>=1.24.3\n",
      "  Downloading grpcio-1.58.0-cp310-cp310-manylinux_2_17_x86_64.manylinux2014_x86_64.whl (5.3 MB)\n",
      "\u001b[2K     \u001b[90m━━━━━━━━━━━━━━━━━━━━━━━━━━━━━━━━━━━━━━━━\u001b[0m \u001b[32m5.3/5.3 MB\u001b[0m \u001b[31m71.8 MB/s\u001b[0m eta \u001b[36m0:00:00\u001b[0m:00:01\u001b[0m00:01\u001b[0m\n",
      "\u001b[?25hRequirement already satisfied: h5py>=2.9.0 in /opt/conda/lib/python3.10/site-packages (from tensorflow) (3.7.0)\n",
      "Requirement already satisfied: wheel<1.0,>=0.23.0 in /opt/conda/lib/python3.10/site-packages (from astunparse>=1.6.0->tensorflow) (0.38.4)\n",
      "Collecting google-auth<3,>=1.6.3\n",
      "  Downloading google_auth-2.23.0-py2.py3-none-any.whl (181 kB)\n",
      "\u001b[2K     \u001b[90m━━━━━━━━━━━━━━━━━━━━━━━━━━━━━━━━━━━━━━\u001b[0m \u001b[32m181.4/181.4 kB\u001b[0m \u001b[31m27.7 MB/s\u001b[0m eta \u001b[36m0:00:00\u001b[0m\n",
      "\u001b[?25hRequirement already satisfied: requests<3,>=2.21.0 in /opt/conda/lib/python3.10/site-packages (from tensorboard<2.14,>=2.13->tensorflow) (2.28.1)\n",
      "Collecting werkzeug>=1.0.1\n",
      "  Downloading werkzeug-2.3.7-py3-none-any.whl (242 kB)\n",
      "\u001b[2K     \u001b[90m━━━━━━━━━━━━━━━━━━━━━━━━━━━━━━━━━━━━━━\u001b[0m \u001b[32m242.2/242.2 kB\u001b[0m \u001b[31m36.2 MB/s\u001b[0m eta \u001b[36m0:00:00\u001b[0m\n",
      "\u001b[?25hCollecting google-auth-oauthlib<1.1,>=0.5\n",
      "  Downloading google_auth_oauthlib-1.0.0-py2.py3-none-any.whl (18 kB)\n",
      "Collecting markdown>=2.6.8\n",
      "  Downloading Markdown-3.4.4-py3-none-any.whl (94 kB)\n",
      "\u001b[2K     \u001b[90m━━━━━━━━━━━━━━━━━━━━━━━━━━━━━━━━━━━━━━━━\u001b[0m \u001b[32m94.2/94.2 kB\u001b[0m \u001b[31m17.9 MB/s\u001b[0m eta \u001b[36m0:00:00\u001b[0m\n",
      "\u001b[?25hCollecting tensorboard-data-server<0.8.0,>=0.7.0\n",
      "  Downloading tensorboard_data_server-0.7.1-py3-none-manylinux2014_x86_64.whl (6.6 MB)\n",
      "\u001b[2K     \u001b[90m━━━━━━━━━━━━━━━━━━━━━━━━━━━━━━━━━━━━━━━━\u001b[0m \u001b[32m6.6/6.6 MB\u001b[0m \u001b[31m67.1 MB/s\u001b[0m eta \u001b[36m0:00:00\u001b[0m:00:01\u001b[0m00:01\u001b[0m\n",
      "\u001b[?25hCollecting pyasn1-modules>=0.2.1\n",
      "  Downloading pyasn1_modules-0.3.0-py2.py3-none-any.whl (181 kB)\n",
      "\u001b[2K     \u001b[90m━━━━━━━━━━━━━━━━━━━━━━━━━━━━━━━━━━━━━━\u001b[0m \u001b[32m181.3/181.3 kB\u001b[0m \u001b[31m28.6 MB/s\u001b[0m eta \u001b[36m0:00:00\u001b[0m\n",
      "\u001b[?25hRequirement already satisfied: urllib3<2.0 in /opt/conda/lib/python3.10/site-packages (from google-auth<3,>=1.6.3->tensorboard<2.14,>=2.13->tensorflow) (1.26.13)\n",
      "Collecting cachetools<6.0,>=2.0.0\n",
      "  Downloading cachetools-5.3.1-py3-none-any.whl (9.3 kB)\n",
      "Collecting rsa<5,>=3.1.4\n",
      "  Downloading rsa-4.9-py3-none-any.whl (34 kB)\n",
      "Collecting requests-oauthlib>=0.7.0\n",
      "  Downloading requests_oauthlib-1.3.1-py2.py3-none-any.whl (23 kB)\n",
      "Requirement already satisfied: idna<4,>=2.5 in /opt/conda/lib/python3.10/site-packages (from requests<3,>=2.21.0->tensorboard<2.14,>=2.13->tensorflow) (3.4)\n",
      "Requirement already satisfied: charset-normalizer<3,>=2 in /opt/conda/lib/python3.10/site-packages (from requests<3,>=2.21.0->tensorboard<2.14,>=2.13->tensorflow) (2.1.1)\n",
      "Requirement already satisfied: certifi>=2017.4.17 in /opt/conda/lib/python3.10/site-packages (from requests<3,>=2.21.0->tensorboard<2.14,>=2.13->tensorflow) (2022.12.7)\n",
      "Requirement already satisfied: MarkupSafe>=2.1.1 in /opt/conda/lib/python3.10/site-packages (from werkzeug>=1.0.1->tensorboard<2.14,>=2.13->tensorflow) (2.1.1)\n",
      "Collecting pyasn1<0.6.0,>=0.4.6\n",
      "  Downloading pyasn1-0.5.0-py2.py3-none-any.whl (83 kB)\n",
      "\u001b[2K     \u001b[90m━━━━━━━━━━━━━━━━━━━━━━━━━━━━━━━━━━━━━━━━\u001b[0m \u001b[32m83.9/83.9 kB\u001b[0m \u001b[31m12.8 MB/s\u001b[0m eta \u001b[36m0:00:00\u001b[0m\n",
      "\u001b[?25hRequirement already satisfied: oauthlib>=3.0.0 in /opt/conda/lib/python3.10/site-packages (from requests-oauthlib>=0.7.0->google-auth-oauthlib<1.1,>=0.5->tensorboard<2.14,>=2.13->tensorflow) (3.2.2)\n",
      "Installing collected packages: libclang, flatbuffers, wrapt, werkzeug, termcolor, tensorflow-io-gcs-filesystem, tensorflow-estimator, tensorboard-data-server, pyasn1, opt-einsum, markdown, keras, grpcio, google-pasta, gast, cachetools, astunparse, absl-py, rsa, requests-oauthlib, pyasn1-modules, google-auth, google-auth-oauthlib, tensorboard, tensorflow\n",
      "Successfully installed absl-py-1.4.0 astunparse-1.6.3 cachetools-5.3.1 flatbuffers-23.5.26 gast-0.4.0 google-auth-2.23.0 google-auth-oauthlib-1.0.0 google-pasta-0.2.0 grpcio-1.58.0 keras-2.13.1 libclang-16.0.6 markdown-3.4.4 opt-einsum-3.3.0 pyasn1-0.5.0 pyasn1-modules-0.3.0 requests-oauthlib-1.3.1 rsa-4.9 tensorboard-2.13.0 tensorboard-data-server-0.7.1 tensorflow-2.13.0 tensorflow-estimator-2.13.0 tensorflow-io-gcs-filesystem-0.34.0 termcolor-2.3.0 werkzeug-2.3.7 wrapt-1.15.0\n",
      "Note: you may need to restart the kernel to use updated packages.\n"
     ]
    }
   ],
   "source": [
    "pip install tensorflow"
   ]
  },
  {
   "cell_type": "code",
   "execution_count": 2,
   "id": "72fde84f-9129-47f0-81b0-1dc7b13aaf40",
   "metadata": {},
   "outputs": [
    {
     "name": "stderr",
     "output_type": "stream",
     "text": [
      "2023-09-16 05:42:32.598804: I tensorflow/tsl/cuda/cudart_stub.cc:28] Could not find cuda drivers on your machine, GPU will not be used.\n",
      "2023-09-16 05:42:32.671723: I tensorflow/tsl/cuda/cudart_stub.cc:28] Could not find cuda drivers on your machine, GPU will not be used.\n",
      "2023-09-16 05:42:32.672764: I tensorflow/core/platform/cpu_feature_guard.cc:182] This TensorFlow binary is optimized to use available CPU instructions in performance-critical operations.\n",
      "To enable the following instructions: AVX2 FMA, in other operations, rebuild TensorFlow with the appropriate compiler flags.\n",
      "2023-09-16 05:42:34.078787: W tensorflow/compiler/tf2tensorrt/utils/py_utils.cc:38] TF-TRT Warning: Could not find TensorRT\n"
     ]
    },
    {
     "name": "stdout",
     "output_type": "stream",
     "text": [
      "Tensorflow Version 2.13.0\n"
     ]
    }
   ],
   "source": [
    "import tensorflow as tf\n",
    "print(f\"Tensorflow Version {tf.__version__}\")"
   ]
  },
  {
   "cell_type": "code",
   "execution_count": 3,
   "id": "50287ca6-ab57-48dd-ac08-8d173af37411",
   "metadata": {},
   "outputs": [
    {
     "name": "stdout",
     "output_type": "stream",
     "text": [
      "Name: keras\n",
      "Version: 2.13.1\n",
      "Summary: Deep learning for humans.\n",
      "Home-page: https://keras.io/\n",
      "Author: Keras team\n",
      "Author-email: keras-users@googlegroups.com\n",
      "License: Apache 2.0\n",
      "Location: /opt/conda/lib/python3.10/site-packages\n",
      "Requires: \n",
      "Required-by: tensorflow\n"
     ]
    }
   ],
   "source": [
    "!pip show keras"
   ]
  },
  {
   "cell_type": "markdown",
   "id": "71dc2a47-e76f-4589-88c9-65d171a829ed",
   "metadata": {},
   "source": [
    "## Q2. Load the Wine Quality dataset and explore its dimensions.\n",
    "## Dataset link: https://www.kaggle.com/datasets/nareshbhat/wine-quality-binary-classification"
   ]
  },
  {
   "cell_type": "code",
   "execution_count": 4,
   "id": "fc2ce139-bc2a-49ae-92d7-2cc0a37a5c34",
   "metadata": {},
   "outputs": [],
   "source": [
    "import pandas as pd\n",
    "import numpy as np\n",
    "df = pd.read_csv(\"wine.csv\")"
   ]
  },
  {
   "cell_type": "code",
   "execution_count": 5,
   "id": "470708aa-c170-4c3f-b5b3-a4b1d0d78b3c",
   "metadata": {},
   "outputs": [
    {
     "data": {
      "text/html": [
       "<div>\n",
       "<style scoped>\n",
       "    .dataframe tbody tr th:only-of-type {\n",
       "        vertical-align: middle;\n",
       "    }\n",
       "\n",
       "    .dataframe tbody tr th {\n",
       "        vertical-align: top;\n",
       "    }\n",
       "\n",
       "    .dataframe thead th {\n",
       "        text-align: right;\n",
       "    }\n",
       "</style>\n",
       "<table border=\"1\" class=\"dataframe\">\n",
       "  <thead>\n",
       "    <tr style=\"text-align: right;\">\n",
       "      <th></th>\n",
       "      <th>fixed acidity</th>\n",
       "      <th>volatile acidity</th>\n",
       "      <th>citric acid</th>\n",
       "      <th>residual sugar</th>\n",
       "      <th>chlorides</th>\n",
       "      <th>free sulfur dioxide</th>\n",
       "      <th>total sulfur dioxide</th>\n",
       "      <th>density</th>\n",
       "      <th>pH</th>\n",
       "      <th>sulphates</th>\n",
       "      <th>alcohol</th>\n",
       "      <th>quality</th>\n",
       "    </tr>\n",
       "  </thead>\n",
       "  <tbody>\n",
       "    <tr>\n",
       "      <th>0</th>\n",
       "      <td>7.4</td>\n",
       "      <td>0.700</td>\n",
       "      <td>0.00</td>\n",
       "      <td>1.9</td>\n",
       "      <td>0.076</td>\n",
       "      <td>11.0</td>\n",
       "      <td>34.0</td>\n",
       "      <td>0.99780</td>\n",
       "      <td>3.51</td>\n",
       "      <td>0.56</td>\n",
       "      <td>9.4</td>\n",
       "      <td>bad</td>\n",
       "    </tr>\n",
       "    <tr>\n",
       "      <th>1</th>\n",
       "      <td>7.8</td>\n",
       "      <td>0.880</td>\n",
       "      <td>0.00</td>\n",
       "      <td>2.6</td>\n",
       "      <td>0.098</td>\n",
       "      <td>25.0</td>\n",
       "      <td>67.0</td>\n",
       "      <td>0.99680</td>\n",
       "      <td>3.20</td>\n",
       "      <td>0.68</td>\n",
       "      <td>9.8</td>\n",
       "      <td>bad</td>\n",
       "    </tr>\n",
       "    <tr>\n",
       "      <th>2</th>\n",
       "      <td>7.8</td>\n",
       "      <td>0.760</td>\n",
       "      <td>0.04</td>\n",
       "      <td>2.3</td>\n",
       "      <td>0.092</td>\n",
       "      <td>15.0</td>\n",
       "      <td>54.0</td>\n",
       "      <td>0.99700</td>\n",
       "      <td>3.26</td>\n",
       "      <td>0.65</td>\n",
       "      <td>9.8</td>\n",
       "      <td>bad</td>\n",
       "    </tr>\n",
       "    <tr>\n",
       "      <th>3</th>\n",
       "      <td>11.2</td>\n",
       "      <td>0.280</td>\n",
       "      <td>0.56</td>\n",
       "      <td>1.9</td>\n",
       "      <td>0.075</td>\n",
       "      <td>17.0</td>\n",
       "      <td>60.0</td>\n",
       "      <td>0.99800</td>\n",
       "      <td>3.16</td>\n",
       "      <td>0.58</td>\n",
       "      <td>9.8</td>\n",
       "      <td>good</td>\n",
       "    </tr>\n",
       "    <tr>\n",
       "      <th>4</th>\n",
       "      <td>7.4</td>\n",
       "      <td>0.700</td>\n",
       "      <td>0.00</td>\n",
       "      <td>1.9</td>\n",
       "      <td>0.076</td>\n",
       "      <td>11.0</td>\n",
       "      <td>34.0</td>\n",
       "      <td>0.99780</td>\n",
       "      <td>3.51</td>\n",
       "      <td>0.56</td>\n",
       "      <td>9.4</td>\n",
       "      <td>bad</td>\n",
       "    </tr>\n",
       "    <tr>\n",
       "      <th>...</th>\n",
       "      <td>...</td>\n",
       "      <td>...</td>\n",
       "      <td>...</td>\n",
       "      <td>...</td>\n",
       "      <td>...</td>\n",
       "      <td>...</td>\n",
       "      <td>...</td>\n",
       "      <td>...</td>\n",
       "      <td>...</td>\n",
       "      <td>...</td>\n",
       "      <td>...</td>\n",
       "      <td>...</td>\n",
       "    </tr>\n",
       "    <tr>\n",
       "      <th>1594</th>\n",
       "      <td>6.2</td>\n",
       "      <td>0.600</td>\n",
       "      <td>0.08</td>\n",
       "      <td>2.0</td>\n",
       "      <td>0.090</td>\n",
       "      <td>32.0</td>\n",
       "      <td>44.0</td>\n",
       "      <td>0.99490</td>\n",
       "      <td>3.45</td>\n",
       "      <td>0.58</td>\n",
       "      <td>10.5</td>\n",
       "      <td>bad</td>\n",
       "    </tr>\n",
       "    <tr>\n",
       "      <th>1595</th>\n",
       "      <td>5.9</td>\n",
       "      <td>0.550</td>\n",
       "      <td>0.10</td>\n",
       "      <td>2.2</td>\n",
       "      <td>0.062</td>\n",
       "      <td>39.0</td>\n",
       "      <td>51.0</td>\n",
       "      <td>0.99512</td>\n",
       "      <td>3.52</td>\n",
       "      <td>0.76</td>\n",
       "      <td>11.2</td>\n",
       "      <td>good</td>\n",
       "    </tr>\n",
       "    <tr>\n",
       "      <th>1596</th>\n",
       "      <td>6.3</td>\n",
       "      <td>0.510</td>\n",
       "      <td>0.13</td>\n",
       "      <td>2.3</td>\n",
       "      <td>0.076</td>\n",
       "      <td>29.0</td>\n",
       "      <td>40.0</td>\n",
       "      <td>0.99574</td>\n",
       "      <td>3.42</td>\n",
       "      <td>0.75</td>\n",
       "      <td>11.0</td>\n",
       "      <td>good</td>\n",
       "    </tr>\n",
       "    <tr>\n",
       "      <th>1597</th>\n",
       "      <td>5.9</td>\n",
       "      <td>0.645</td>\n",
       "      <td>0.12</td>\n",
       "      <td>2.0</td>\n",
       "      <td>0.075</td>\n",
       "      <td>32.0</td>\n",
       "      <td>44.0</td>\n",
       "      <td>0.99547</td>\n",
       "      <td>3.57</td>\n",
       "      <td>0.71</td>\n",
       "      <td>10.2</td>\n",
       "      <td>bad</td>\n",
       "    </tr>\n",
       "    <tr>\n",
       "      <th>1598</th>\n",
       "      <td>6.0</td>\n",
       "      <td>0.310</td>\n",
       "      <td>0.47</td>\n",
       "      <td>3.6</td>\n",
       "      <td>0.067</td>\n",
       "      <td>18.0</td>\n",
       "      <td>42.0</td>\n",
       "      <td>0.99549</td>\n",
       "      <td>3.39</td>\n",
       "      <td>0.66</td>\n",
       "      <td>11.0</td>\n",
       "      <td>good</td>\n",
       "    </tr>\n",
       "  </tbody>\n",
       "</table>\n",
       "<p>1599 rows × 12 columns</p>\n",
       "</div>"
      ],
      "text/plain": [
       "      fixed acidity  volatile acidity  citric acid  residual sugar  chlorides  \\\n",
       "0               7.4             0.700         0.00             1.9      0.076   \n",
       "1               7.8             0.880         0.00             2.6      0.098   \n",
       "2               7.8             0.760         0.04             2.3      0.092   \n",
       "3              11.2             0.280         0.56             1.9      0.075   \n",
       "4               7.4             0.700         0.00             1.9      0.076   \n",
       "...             ...               ...          ...             ...        ...   \n",
       "1594            6.2             0.600         0.08             2.0      0.090   \n",
       "1595            5.9             0.550         0.10             2.2      0.062   \n",
       "1596            6.3             0.510         0.13             2.3      0.076   \n",
       "1597            5.9             0.645         0.12             2.0      0.075   \n",
       "1598            6.0             0.310         0.47             3.6      0.067   \n",
       "\n",
       "      free sulfur dioxide  total sulfur dioxide  density    pH  sulphates  \\\n",
       "0                    11.0                  34.0  0.99780  3.51       0.56   \n",
       "1                    25.0                  67.0  0.99680  3.20       0.68   \n",
       "2                    15.0                  54.0  0.99700  3.26       0.65   \n",
       "3                    17.0                  60.0  0.99800  3.16       0.58   \n",
       "4                    11.0                  34.0  0.99780  3.51       0.56   \n",
       "...                   ...                   ...      ...   ...        ...   \n",
       "1594                 32.0                  44.0  0.99490  3.45       0.58   \n",
       "1595                 39.0                  51.0  0.99512  3.52       0.76   \n",
       "1596                 29.0                  40.0  0.99574  3.42       0.75   \n",
       "1597                 32.0                  44.0  0.99547  3.57       0.71   \n",
       "1598                 18.0                  42.0  0.99549  3.39       0.66   \n",
       "\n",
       "      alcohol quality  \n",
       "0         9.4     bad  \n",
       "1         9.8     bad  \n",
       "2         9.8     bad  \n",
       "3         9.8    good  \n",
       "4         9.4     bad  \n",
       "...       ...     ...  \n",
       "1594     10.5     bad  \n",
       "1595     11.2    good  \n",
       "1596     11.0    good  \n",
       "1597     10.2     bad  \n",
       "1598     11.0    good  \n",
       "\n",
       "[1599 rows x 12 columns]"
      ]
     },
     "execution_count": 5,
     "metadata": {},
     "output_type": "execute_result"
    }
   ],
   "source": [
    "df"
   ]
  },
  {
   "cell_type": "code",
   "execution_count": 6,
   "id": "5453c0e2-97cc-4080-9be8-35c7f8a300b8",
   "metadata": {},
   "outputs": [
    {
     "data": {
      "text/plain": [
       "(1599, 12)"
      ]
     },
     "execution_count": 6,
     "metadata": {},
     "output_type": "execute_result"
    }
   ],
   "source": [
    "df.shape"
   ]
  },
  {
   "cell_type": "markdown",
   "id": "2c92dc1a-337a-4d24-9fec-bf00f7393ba5",
   "metadata": {},
   "source": [
    "It has 1599 rows and 12 columns out of which 11 are independent features and 1 is dependent feature"
   ]
  },
  {
   "cell_type": "markdown",
   "id": "8aa86a91-03fe-4a7e-9cdc-947ca2a7d091",
   "metadata": {},
   "source": [
    "## Q3. Check for null values, identify categorical variables, and encode them."
   ]
  },
  {
   "cell_type": "code",
   "execution_count": 7,
   "id": "8679ec77-c89d-49b9-9a28-a9effbd02424",
   "metadata": {},
   "outputs": [
    {
     "data": {
      "text/plain": [
       "fixed acidity           0\n",
       "volatile acidity        0\n",
       "citric acid             0\n",
       "residual sugar          0\n",
       "chlorides               0\n",
       "free sulfur dioxide     0\n",
       "total sulfur dioxide    0\n",
       "density                 0\n",
       "pH                      0\n",
       "sulphates               0\n",
       "alcohol                 0\n",
       "quality                 0\n",
       "dtype: int64"
      ]
     },
     "execution_count": 7,
     "metadata": {},
     "output_type": "execute_result"
    }
   ],
   "source": [
    "df.isnull().sum()"
   ]
  },
  {
   "cell_type": "markdown",
   "id": "fd9eab7a-5282-4efd-9a49-d6547a62cd1b",
   "metadata": {},
   "source": [
    "There are no null values in the dataset"
   ]
  },
  {
   "cell_type": "code",
   "execution_count": 8,
   "id": "91adb85a-5316-40dd-85f0-4610eef8bcb0",
   "metadata": {},
   "outputs": [],
   "source": [
    "## There is only one categorical variable in the dataset i.e. quality(which is the dependent feature)\n",
    "df['quality'] = np.where(df['quality']=='good',1,0)"
   ]
  },
  {
   "cell_type": "code",
   "execution_count": 9,
   "id": "3e2ab228-6c77-448b-ac3c-45da28f3b0e2",
   "metadata": {},
   "outputs": [
    {
     "data": {
      "text/html": [
       "<div>\n",
       "<style scoped>\n",
       "    .dataframe tbody tr th:only-of-type {\n",
       "        vertical-align: middle;\n",
       "    }\n",
       "\n",
       "    .dataframe tbody tr th {\n",
       "        vertical-align: top;\n",
       "    }\n",
       "\n",
       "    .dataframe thead th {\n",
       "        text-align: right;\n",
       "    }\n",
       "</style>\n",
       "<table border=\"1\" class=\"dataframe\">\n",
       "  <thead>\n",
       "    <tr style=\"text-align: right;\">\n",
       "      <th></th>\n",
       "      <th>fixed acidity</th>\n",
       "      <th>volatile acidity</th>\n",
       "      <th>citric acid</th>\n",
       "      <th>residual sugar</th>\n",
       "      <th>chlorides</th>\n",
       "      <th>free sulfur dioxide</th>\n",
       "      <th>total sulfur dioxide</th>\n",
       "      <th>density</th>\n",
       "      <th>pH</th>\n",
       "      <th>sulphates</th>\n",
       "      <th>alcohol</th>\n",
       "      <th>quality</th>\n",
       "    </tr>\n",
       "  </thead>\n",
       "  <tbody>\n",
       "    <tr>\n",
       "      <th>0</th>\n",
       "      <td>7.4</td>\n",
       "      <td>0.70</td>\n",
       "      <td>0.00</td>\n",
       "      <td>1.9</td>\n",
       "      <td>0.076</td>\n",
       "      <td>11.0</td>\n",
       "      <td>34.0</td>\n",
       "      <td>0.9978</td>\n",
       "      <td>3.51</td>\n",
       "      <td>0.56</td>\n",
       "      <td>9.4</td>\n",
       "      <td>0</td>\n",
       "    </tr>\n",
       "    <tr>\n",
       "      <th>1</th>\n",
       "      <td>7.8</td>\n",
       "      <td>0.88</td>\n",
       "      <td>0.00</td>\n",
       "      <td>2.6</td>\n",
       "      <td>0.098</td>\n",
       "      <td>25.0</td>\n",
       "      <td>67.0</td>\n",
       "      <td>0.9968</td>\n",
       "      <td>3.20</td>\n",
       "      <td>0.68</td>\n",
       "      <td>9.8</td>\n",
       "      <td>0</td>\n",
       "    </tr>\n",
       "    <tr>\n",
       "      <th>2</th>\n",
       "      <td>7.8</td>\n",
       "      <td>0.76</td>\n",
       "      <td>0.04</td>\n",
       "      <td>2.3</td>\n",
       "      <td>0.092</td>\n",
       "      <td>15.0</td>\n",
       "      <td>54.0</td>\n",
       "      <td>0.9970</td>\n",
       "      <td>3.26</td>\n",
       "      <td>0.65</td>\n",
       "      <td>9.8</td>\n",
       "      <td>0</td>\n",
       "    </tr>\n",
       "    <tr>\n",
       "      <th>3</th>\n",
       "      <td>11.2</td>\n",
       "      <td>0.28</td>\n",
       "      <td>0.56</td>\n",
       "      <td>1.9</td>\n",
       "      <td>0.075</td>\n",
       "      <td>17.0</td>\n",
       "      <td>60.0</td>\n",
       "      <td>0.9980</td>\n",
       "      <td>3.16</td>\n",
       "      <td>0.58</td>\n",
       "      <td>9.8</td>\n",
       "      <td>1</td>\n",
       "    </tr>\n",
       "    <tr>\n",
       "      <th>4</th>\n",
       "      <td>7.4</td>\n",
       "      <td>0.70</td>\n",
       "      <td>0.00</td>\n",
       "      <td>1.9</td>\n",
       "      <td>0.076</td>\n",
       "      <td>11.0</td>\n",
       "      <td>34.0</td>\n",
       "      <td>0.9978</td>\n",
       "      <td>3.51</td>\n",
       "      <td>0.56</td>\n",
       "      <td>9.4</td>\n",
       "      <td>0</td>\n",
       "    </tr>\n",
       "  </tbody>\n",
       "</table>\n",
       "</div>"
      ],
      "text/plain": [
       "   fixed acidity  volatile acidity  citric acid  residual sugar  chlorides  \\\n",
       "0            7.4              0.70         0.00             1.9      0.076   \n",
       "1            7.8              0.88         0.00             2.6      0.098   \n",
       "2            7.8              0.76         0.04             2.3      0.092   \n",
       "3           11.2              0.28         0.56             1.9      0.075   \n",
       "4            7.4              0.70         0.00             1.9      0.076   \n",
       "\n",
       "   free sulfur dioxide  total sulfur dioxide  density    pH  sulphates  \\\n",
       "0                 11.0                  34.0   0.9978  3.51       0.56   \n",
       "1                 25.0                  67.0   0.9968  3.20       0.68   \n",
       "2                 15.0                  54.0   0.9970  3.26       0.65   \n",
       "3                 17.0                  60.0   0.9980  3.16       0.58   \n",
       "4                 11.0                  34.0   0.9978  3.51       0.56   \n",
       "\n",
       "   alcohol  quality  \n",
       "0      9.4        0  \n",
       "1      9.8        0  \n",
       "2      9.8        0  \n",
       "3      9.8        1  \n",
       "4      9.4        0  "
      ]
     },
     "execution_count": 9,
     "metadata": {},
     "output_type": "execute_result"
    }
   ],
   "source": [
    "df.head()"
   ]
  },
  {
   "cell_type": "markdown",
   "id": "978afef1-0546-4509-843f-f95898db3e0f",
   "metadata": {},
   "source": [
    "## Q4. Separate the features and target variables from the dataframe."
   ]
  },
  {
   "cell_type": "code",
   "execution_count": 10,
   "id": "454056b2-8b29-457b-80a3-d8f3e0cee588",
   "metadata": {},
   "outputs": [],
   "source": [
    "X = df.drop(['quality'],axis=1) ## Independent Features\n",
    "y = df['quality'] ## Dependent Features"
   ]
  },
  {
   "cell_type": "code",
   "execution_count": 11,
   "id": "5d3c8f1f-adb5-4107-89aa-9bb20a27b232",
   "metadata": {},
   "outputs": [
    {
     "data": {
      "text/html": [
       "<div>\n",
       "<style scoped>\n",
       "    .dataframe tbody tr th:only-of-type {\n",
       "        vertical-align: middle;\n",
       "    }\n",
       "\n",
       "    .dataframe tbody tr th {\n",
       "        vertical-align: top;\n",
       "    }\n",
       "\n",
       "    .dataframe thead th {\n",
       "        text-align: right;\n",
       "    }\n",
       "</style>\n",
       "<table border=\"1\" class=\"dataframe\">\n",
       "  <thead>\n",
       "    <tr style=\"text-align: right;\">\n",
       "      <th></th>\n",
       "      <th>fixed acidity</th>\n",
       "      <th>volatile acidity</th>\n",
       "      <th>citric acid</th>\n",
       "      <th>residual sugar</th>\n",
       "      <th>chlorides</th>\n",
       "      <th>free sulfur dioxide</th>\n",
       "      <th>total sulfur dioxide</th>\n",
       "      <th>density</th>\n",
       "      <th>pH</th>\n",
       "      <th>sulphates</th>\n",
       "      <th>alcohol</th>\n",
       "    </tr>\n",
       "  </thead>\n",
       "  <tbody>\n",
       "    <tr>\n",
       "      <th>0</th>\n",
       "      <td>7.4</td>\n",
       "      <td>0.70</td>\n",
       "      <td>0.00</td>\n",
       "      <td>1.9</td>\n",
       "      <td>0.076</td>\n",
       "      <td>11.0</td>\n",
       "      <td>34.0</td>\n",
       "      <td>0.9978</td>\n",
       "      <td>3.51</td>\n",
       "      <td>0.56</td>\n",
       "      <td>9.4</td>\n",
       "    </tr>\n",
       "    <tr>\n",
       "      <th>1</th>\n",
       "      <td>7.8</td>\n",
       "      <td>0.88</td>\n",
       "      <td>0.00</td>\n",
       "      <td>2.6</td>\n",
       "      <td>0.098</td>\n",
       "      <td>25.0</td>\n",
       "      <td>67.0</td>\n",
       "      <td>0.9968</td>\n",
       "      <td>3.20</td>\n",
       "      <td>0.68</td>\n",
       "      <td>9.8</td>\n",
       "    </tr>\n",
       "    <tr>\n",
       "      <th>2</th>\n",
       "      <td>7.8</td>\n",
       "      <td>0.76</td>\n",
       "      <td>0.04</td>\n",
       "      <td>2.3</td>\n",
       "      <td>0.092</td>\n",
       "      <td>15.0</td>\n",
       "      <td>54.0</td>\n",
       "      <td>0.9970</td>\n",
       "      <td>3.26</td>\n",
       "      <td>0.65</td>\n",
       "      <td>9.8</td>\n",
       "    </tr>\n",
       "    <tr>\n",
       "      <th>3</th>\n",
       "      <td>11.2</td>\n",
       "      <td>0.28</td>\n",
       "      <td>0.56</td>\n",
       "      <td>1.9</td>\n",
       "      <td>0.075</td>\n",
       "      <td>17.0</td>\n",
       "      <td>60.0</td>\n",
       "      <td>0.9980</td>\n",
       "      <td>3.16</td>\n",
       "      <td>0.58</td>\n",
       "      <td>9.8</td>\n",
       "    </tr>\n",
       "    <tr>\n",
       "      <th>4</th>\n",
       "      <td>7.4</td>\n",
       "      <td>0.70</td>\n",
       "      <td>0.00</td>\n",
       "      <td>1.9</td>\n",
       "      <td>0.076</td>\n",
       "      <td>11.0</td>\n",
       "      <td>34.0</td>\n",
       "      <td>0.9978</td>\n",
       "      <td>3.51</td>\n",
       "      <td>0.56</td>\n",
       "      <td>9.4</td>\n",
       "    </tr>\n",
       "  </tbody>\n",
       "</table>\n",
       "</div>"
      ],
      "text/plain": [
       "   fixed acidity  volatile acidity  citric acid  residual sugar  chlorides  \\\n",
       "0            7.4              0.70         0.00             1.9      0.076   \n",
       "1            7.8              0.88         0.00             2.6      0.098   \n",
       "2            7.8              0.76         0.04             2.3      0.092   \n",
       "3           11.2              0.28         0.56             1.9      0.075   \n",
       "4            7.4              0.70         0.00             1.9      0.076   \n",
       "\n",
       "   free sulfur dioxide  total sulfur dioxide  density    pH  sulphates  \\\n",
       "0                 11.0                  34.0   0.9978  3.51       0.56   \n",
       "1                 25.0                  67.0   0.9968  3.20       0.68   \n",
       "2                 15.0                  54.0   0.9970  3.26       0.65   \n",
       "3                 17.0                  60.0   0.9980  3.16       0.58   \n",
       "4                 11.0                  34.0   0.9978  3.51       0.56   \n",
       "\n",
       "   alcohol  \n",
       "0      9.4  \n",
       "1      9.8  \n",
       "2      9.8  \n",
       "3      9.8  \n",
       "4      9.4  "
      ]
     },
     "execution_count": 11,
     "metadata": {},
     "output_type": "execute_result"
    }
   ],
   "source": [
    "X.head()"
   ]
  },
  {
   "cell_type": "code",
   "execution_count": 12,
   "id": "60a512f8-d820-43b2-b797-9b8854fa7ebc",
   "metadata": {},
   "outputs": [
    {
     "data": {
      "text/plain": [
       "0       0\n",
       "1       0\n",
       "2       0\n",
       "3       1\n",
       "4       0\n",
       "       ..\n",
       "1594    0\n",
       "1595    1\n",
       "1596    1\n",
       "1597    0\n",
       "1598    1\n",
       "Name: quality, Length: 1599, dtype: int64"
      ]
     },
     "execution_count": 12,
     "metadata": {},
     "output_type": "execute_result"
    }
   ],
   "source": [
    "y"
   ]
  },
  {
   "cell_type": "markdown",
   "id": "3c55ff4d-41db-45f5-8c68-5a898e3d7fab",
   "metadata": {},
   "source": [
    "## Q5. Perform a train-test split and divide the data into training, validation, and test datasets."
   ]
  },
  {
   "cell_type": "code",
   "execution_count": 13,
   "id": "7d55ad5e-283e-42c3-a5e6-6843f8de03dd",
   "metadata": {},
   "outputs": [],
   "source": [
    "from sklearn.model_selection import train_test_split\n",
    "X_train_full,X_test,y_train_full,y_test = train_test_split(X,y,test_size=0.25,random_state=42)"
   ]
  },
  {
   "cell_type": "code",
   "execution_count": 14,
   "id": "86343390-0cc2-46e3-b354-1d03a69fbb8d",
   "metadata": {},
   "outputs": [],
   "source": [
    "X_train,X_valid,y_train,y_valid = train_test_split(X_train_full,y_train_full,test_size=0.25)\n",
    "\n",
    "## X_train,y_train -> Training Datasets\n",
    "## X_valid,y_valid -> Validation Datasets\n",
    "## X_test,y_test -> Test Datasets"
   ]
  },
  {
   "cell_type": "code",
   "execution_count": 39,
   "id": "b20e0aca-9ee7-4940-9910-6c2292f30067",
   "metadata": {},
   "outputs": [
    {
     "name": "stdout",
     "output_type": "stream",
     "text": [
      "(899, 11)\n"
     ]
    }
   ],
   "source": [
    "print(X_train.shape)"
   ]
  },
  {
   "cell_type": "markdown",
   "id": "c9487007-36c3-4a1e-9de6-08ee3c7a62f8",
   "metadata": {},
   "source": [
    "## Q6. Perform scaling on the dataset."
   ]
  },
  {
   "cell_type": "code",
   "execution_count": 15,
   "id": "cac0aaaa-1291-41f2-87ab-3d03ff80ba66",
   "metadata": {},
   "outputs": [],
   "source": [
    "from sklearn.preprocessing import StandardScaler\n",
    "scaler = StandardScaler()"
   ]
  },
  {
   "cell_type": "code",
   "execution_count": 16,
   "id": "2a60df38-68f8-4174-b4ae-89428291220b",
   "metadata": {},
   "outputs": [],
   "source": [
    "X_train = scaler.fit_transform(X_train)\n",
    "X_test = scaler.transform(X_test)\n",
    "X_valid = scaler.transform(X_valid)"
   ]
  },
  {
   "cell_type": "markdown",
   "id": "5b965cd4-d09f-45a0-9be9-f13128d4880f",
   "metadata": {},
   "source": [
    "## Q7. Create at least 2 hidden layers and an output layer for the binary categorical variables."
   ]
  },
  {
   "cell_type": "code",
   "execution_count": 17,
   "id": "c509ff09-f8f4-4deb-b4ad-52961d06eb00",
   "metadata": {},
   "outputs": [
    {
     "data": {
      "text/plain": [
       "array([[-1.22415218, -0.54065291, -0.28352246, ...,  1.37223967,\n",
       "        -0.35161951, -0.86651877],\n",
       "       [ 0.44573436, -1.31948517,  0.26774643, ..., -0.3491541 ,\n",
       "         1.03607804,  1.18864471],\n",
       "       [-0.99382301, -0.48502203, -0.63432993, ...,  0.04809062,\n",
       "        -0.23597805, -1.05335181],\n",
       "       ...,\n",
       "       [-0.47558236, -0.0956059 , -1.28582953, ...,  0.31292043,\n",
       "        -0.69854389,  0.06764645],\n",
       "       [-0.24525318, -0.54065291, -0.33363781, ..., -0.94502117,\n",
       "         1.44082316, -0.86651877],\n",
       "       [ 0.38815206,  0.01565585,  1.06959209, ..., -0.28294664,\n",
       "        -0.29379878, -0.95993529]])"
      ]
     },
     "execution_count": 17,
     "metadata": {},
     "output_type": "execute_result"
    }
   ],
   "source": [
    "X_train"
   ]
  },
  {
   "cell_type": "code",
   "execution_count": 41,
   "id": "bc7c73af-9cd2-460c-abd7-e7ff1dc2a400",
   "metadata": {},
   "outputs": [
    {
     "name": "stdout",
     "output_type": "stream",
     "text": [
      "(899, 11)\n",
      "(899,)\n"
     ]
    }
   ],
   "source": [
    "print(X_train.shape)\n",
    "print(y_train.shape)"
   ]
  },
  {
   "cell_type": "code",
   "execution_count": 67,
   "id": "80623902-2929-4207-ac56-2ba725784e73",
   "metadata": {},
   "outputs": [],
   "source": [
    "## Creating Layers \n",
    "LAYERS = [tf.keras.layers.Dense(20,activation=\"relu\",name=\"hiddenLayer1\",input_shape=X_train.shape[1:]),\n",
    "         tf.keras.layers.Dense(10,activation=\"relu\",name=\"hiddenLayer2\"),\n",
    "         tf.keras.layers.Dense(1,name=\"outputLayer\")]"
   ]
  },
  {
   "cell_type": "markdown",
   "id": "a339d983-3455-4785-939e-c7d703c5c840",
   "metadata": {},
   "source": [
    "## Q8. Create a Sequential model and add all the layers to it."
   ]
  },
  {
   "cell_type": "code",
   "execution_count": 68,
   "id": "8eb3458f-a276-454c-bd48-ac39c1c990d5",
   "metadata": {},
   "outputs": [],
   "source": [
    "model_clf = tf.keras.models.Sequential(LAYERS)"
   ]
  },
  {
   "cell_type": "code",
   "execution_count": 69,
   "id": "40e8bd5b-0555-4d07-9a07-404f6446f297",
   "metadata": {},
   "outputs": [
    {
     "data": {
      "text/plain": [
       "[<keras.src.layers.core.dense.Dense at 0x7feb1c147280>,\n",
       " <keras.src.layers.core.dense.Dense at 0x7feb1c2edbd0>,\n",
       " <keras.src.layers.core.dense.Dense at 0x7feb1c2ed4b0>]"
      ]
     },
     "execution_count": 69,
     "metadata": {},
     "output_type": "execute_result"
    }
   ],
   "source": [
    "model_clf.layers"
   ]
  },
  {
   "cell_type": "markdown",
   "id": "b1c54efc-e851-40f2-bdf9-a63f80cb1139",
   "metadata": {},
   "source": [
    "## Q9. Implement a TensorBoard callback to visualize and monitor the model's training process."
   ]
  },
  {
   "cell_type": "code",
   "execution_count": 70,
   "id": "ee14fa93-0994-4123-826b-7304af38a4a5",
   "metadata": {},
   "outputs": [],
   "source": [
    "tb_cb = tf.keras.callbacks.TensorBoard(log_dir=\"logs\")"
   ]
  },
  {
   "cell_type": "markdown",
   "id": "e7c1c823-6b72-4264-88b2-1c61175da81c",
   "metadata": {},
   "source": [
    "## Q10. Use Early Stopping to prevent overfitting by monitoring a chosen metric and stopping the training if no improvement is observed."
   ]
  },
  {
   "cell_type": "code",
   "execution_count": 71,
   "id": "82ceae68-1708-4dbd-84c7-d8a568331c89",
   "metadata": {},
   "outputs": [],
   "source": [
    "early_stop_cb = tf.keras.callbacks.EarlyStopping(patience=5,restore_best_weights=True)"
   ]
  },
  {
   "cell_type": "markdown",
   "id": "de1d8bec-0df7-4672-a809-40a8bb0061bd",
   "metadata": {},
   "source": [
    "## Q11. Implement a ModelCheckpoint callback to save the best model based on a chosen metric during training."
   ]
  },
  {
   "cell_type": "code",
   "execution_count": 72,
   "id": "7ca3e1c6-70c3-48c8-9998-f908a2d1d997",
   "metadata": {},
   "outputs": [],
   "source": [
    "model_checkpoint_cb = tf.keras.callbacks.ModelCheckpoint('model.h5',save_best_only=True)"
   ]
  },
  {
   "cell_type": "markdown",
   "id": "ffb19476-a118-43f7-93a7-dd4d81fa66bb",
   "metadata": {},
   "source": [
    "## Q12. Print the model summary."
   ]
  },
  {
   "cell_type": "code",
   "execution_count": 73,
   "id": "bf2c1c53-e0dc-40d5-a6f1-13c73a268dbb",
   "metadata": {},
   "outputs": [
    {
     "name": "stdout",
     "output_type": "stream",
     "text": [
      "Model: \"sequential_4\"\n",
      "_________________________________________________________________\n",
      " Layer (type)                Output Shape              Param #   \n",
      "=================================================================\n",
      " hiddenLayer1 (Dense)        (None, 20)                240       \n",
      "                                                                 \n",
      " hiddenLayer2 (Dense)        (None, 10)                210       \n",
      "                                                                 \n",
      " outputLayer (Dense)         (None, 1)                 11        \n",
      "                                                                 \n",
      "=================================================================\n",
      "Total params: 461 (1.80 KB)\n",
      "Trainable params: 461 (1.80 KB)\n",
      "Non-trainable params: 0 (0.00 Byte)\n",
      "_________________________________________________________________\n"
     ]
    }
   ],
   "source": [
    "model_clf.summary()"
   ]
  },
  {
   "cell_type": "markdown",
   "id": "69ec2495-f816-4de7-a4ae-888a1307fc6e",
   "metadata": {},
   "source": [
    "## Q13. Use binary cross-entropy as the loss function, Adam optimizer, and include the metric ['accuracy']."
   ]
  },
  {
   "cell_type": "code",
   "execution_count": 74,
   "id": "cd7a3a87-726b-442f-a835-a196ac834471",
   "metadata": {},
   "outputs": [],
   "source": [
    "LOSS = tf.keras.losses.BinaryCrossentropy()\n",
    "optimizer= \"adam\"\n",
    "metric = \"accuracy\""
   ]
  },
  {
   "cell_type": "markdown",
   "id": "26e71ff8-5d3f-4845-a3c4-76acd2252d75",
   "metadata": {},
   "source": [
    "## Q14. Compile the model with the specified loss function, optimizer, and metrics."
   ]
  },
  {
   "cell_type": "code",
   "execution_count": 75,
   "id": "4b965943-5349-4a7a-ae27-e677d1237cef",
   "metadata": {},
   "outputs": [],
   "source": [
    "model_clf.compile(loss=LOSS,optimizer=optimizer,metrics=metric)"
   ]
  },
  {
   "cell_type": "code",
   "execution_count": 76,
   "id": "716f7f60-b24e-4536-82ec-d2127b05357d",
   "metadata": {},
   "outputs": [
    {
     "name": "stdout",
     "output_type": "stream",
     "text": [
      "Epoch 1/10\n",
      "29/29 [==============================] - 1s 12ms/step - loss: 1.9628 - accuracy: 0.5139 - val_loss: 1.6095 - val_accuracy: 0.5433\n",
      "Epoch 2/10\n",
      "29/29 [==============================] - 0s 5ms/step - loss: 1.5722 - accuracy: 0.5562 - val_loss: 1.5451 - val_accuracy: 0.5533\n",
      "Epoch 3/10\n",
      " 1/29 [>.............................] - ETA: 0s - loss: 1.7230 - accuracy: 0.5938"
     ]
    },
    {
     "name": "stderr",
     "output_type": "stream",
     "text": [
      "/opt/conda/lib/python3.10/site-packages/keras/src/engine/training.py:3000: UserWarning: You are saving your model as an HDF5 file via `model.save()`. This file format is considered legacy. We recommend using instead the native Keras format, e.g. `model.save('my_model.keras')`.\n",
      "  saving_api.save_model(\n"
     ]
    },
    {
     "name": "stdout",
     "output_type": "stream",
     "text": [
      "29/29 [==============================] - 0s 5ms/step - loss: 1.4601 - accuracy: 0.5862 - val_loss: 1.4318 - val_accuracy: 0.5967\n",
      "Epoch 4/10\n",
      "29/29 [==============================] - 0s 5ms/step - loss: 1.3414 - accuracy: 0.6140 - val_loss: 1.3806 - val_accuracy: 0.5967\n",
      "Epoch 5/10\n",
      "29/29 [==============================] - 0s 4ms/step - loss: 1.1846 - accuracy: 0.6251 - val_loss: 1.3439 - val_accuracy: 0.6067\n",
      "Epoch 6/10\n",
      "29/29 [==============================] - 0s 4ms/step - loss: 1.0628 - accuracy: 0.6385 - val_loss: 1.1582 - val_accuracy: 0.6300\n",
      "Epoch 7/10\n",
      "29/29 [==============================] - 0s 5ms/step - loss: 1.0075 - accuracy: 0.6407 - val_loss: 1.0918 - val_accuracy: 0.6233\n",
      "Epoch 8/10\n",
      "29/29 [==============================] - 0s 4ms/step - loss: 0.9270 - accuracy: 0.6440 - val_loss: 0.9999 - val_accuracy: 0.6300\n",
      "Epoch 9/10\n",
      "29/29 [==============================] - 0s 4ms/step - loss: 0.8959 - accuracy: 0.6474 - val_loss: 0.9532 - val_accuracy: 0.6367\n",
      "Epoch 10/10\n",
      "29/29 [==============================] - 0s 4ms/step - loss: 0.8894 - accuracy: 0.6663 - val_loss: 1.0122 - val_accuracy: 0.6433\n"
     ]
    }
   ],
   "source": [
    "EPOCHS = 10\n",
    "CALLBACKS = [tb_cb,early_stop_cb,model_checkpoint_cb]\n",
    "history = model_clf.fit(X_train,y_train,epochs=EPOCHS,validation_data=(X_valid,y_valid),callbacks=CALLBACKS)"
   ]
  },
  {
   "cell_type": "markdown",
   "id": "059b4ab4-310f-4a2f-b354-9bc12aadc81c",
   "metadata": {},
   "source": [
    "## Q16. Get the model's parameters."
   ]
  },
  {
   "cell_type": "code",
   "execution_count": 85,
   "id": "914101cb-25d5-41f7-a452-8f63262c6cca",
   "metadata": {},
   "outputs": [
    {
     "data": {
      "text/plain": [
       "[array([[-0.43166602, -0.14116113,  0.16667458,  0.36259902, -0.30387408,\n",
       "         -0.0765416 ,  0.3448875 ,  0.03153195,  0.11363182, -0.23949662,\n",
       "          0.42734006,  0.09082799, -0.401575  , -0.16698304,  0.23616089,\n",
       "         -0.23036245,  0.2615536 , -0.04354935, -0.15047331, -0.12933385],\n",
       "        [-0.29847547, -0.38819662, -0.35123497, -0.16164438,  0.2345869 ,\n",
       "         -0.5006494 ,  0.31875   ,  0.39545125,  0.3393702 ,  0.48245624,\n",
       "         -0.37242854,  0.37942472,  0.11859417, -0.27658984, -0.34510386,\n",
       "          0.2881689 , -0.2563481 , -0.15227102,  0.2678495 ,  0.38879493],\n",
       "        [-0.06720861,  0.26952165,  0.40174592, -0.26228654,  0.23416568,\n",
       "          0.1463767 ,  0.39018765, -0.0882626 , -0.00552029, -0.28794393,\n",
       "          0.3492411 ,  0.02701844,  0.34457648,  0.19397198,  0.01332875,\n",
       "         -0.0750679 ,  0.28243482,  0.02548796, -0.12771575,  0.09180401],\n",
       "        [-0.2698637 ,  0.34623787, -0.3439582 , -0.3226932 ,  0.01635093,\n",
       "         -0.41199273,  0.18541943,  0.330696  ,  0.3727078 ,  0.12417562,\n",
       "          0.1636979 , -0.18221062, -0.20399843, -0.47338426,  0.26993683,\n",
       "          0.24843606, -0.14363328,  0.32013872, -0.34301972,  0.20696583],\n",
       "        [-0.35819507, -0.22736159,  0.10693667, -0.3623183 , -0.29982427,\n",
       "          0.1790543 , -0.15439516,  0.21534806, -0.20979528, -0.19631603,\n",
       "          0.15176603,  0.35443377,  0.04813752, -0.43955228,  0.1120153 ,\n",
       "          0.2954784 , -0.22964133, -0.3555407 ,  0.20004329, -0.16860205],\n",
       "        [-0.24812254,  0.3751598 ,  0.13312678,  0.38722914,  0.13149598,\n",
       "          0.25764072,  0.00611407,  0.09017089, -0.00511922,  0.08265301,\n",
       "         -0.0835761 ,  0.22945517,  0.16963817,  0.07845812,  0.30168408,\n",
       "          0.37611648, -0.403871  , -0.412815  , -0.1369245 , -0.25585568],\n",
       "        [ 0.20799708,  0.00490503,  0.3052409 , -0.15642497, -0.30901504,\n",
       "         -0.13882677,  0.32020068,  0.3687005 , -0.36771116, -0.12014847,\n",
       "          0.37668097, -0.43222067, -0.41888526, -0.1446026 , -0.35639843,\n",
       "         -0.00491826,  0.33852097, -0.0009679 , -0.0634388 , -0.2908628 ],\n",
       "        [ 0.21895462, -0.1749357 ,  0.41919068,  0.14325915, -0.12414093,\n",
       "         -0.00244762, -0.28007412, -0.19718066, -0.30984277, -0.27555126,\n",
       "          0.13314359,  0.16832969, -0.41860247, -0.22566701, -0.10323202,\n",
       "         -0.14029111, -0.47967318,  0.2404279 , -0.19385965, -0.3486188 ],\n",
       "        [ 0.34703383,  0.4019894 , -0.00096443,  0.32831162, -0.32759693,\n",
       "          0.36637184,  0.076716  ,  0.00063086, -0.05565227, -0.40543738,\n",
       "          0.10149862,  0.08369598, -0.24772134, -0.3838569 , -0.4162141 ,\n",
       "          0.10662998, -0.2928416 , -0.31039423,  0.3664301 ,  0.19695158],\n",
       "        [ 0.24711151, -0.2762346 ,  0.40665257,  0.40991616, -0.29557943,\n",
       "         -0.2308108 ,  0.3891366 , -0.4332218 ,  0.06490389, -0.37841746,\n",
       "          0.21188018, -0.29413825,  0.01992659,  0.34951326,  0.32051513,\n",
       "          0.41860658,  0.15617768,  0.13564739,  0.15855914,  0.22403741],\n",
       "        [-0.00296018,  0.1706739 ,  0.2632156 , -0.2994447 , -0.03373326,\n",
       "          0.31011224,  0.17897369,  0.13195978,  0.3101511 , -0.2578079 ,\n",
       "         -0.16982733, -0.28881973, -0.16151248, -0.242242  , -0.3246198 ,\n",
       "          0.29546356, -0.13863975, -0.16369562, -0.35966173,  0.5025284 ]],\n",
       "       dtype=float32),\n",
       " array([ 0.01431328, -0.01110156,  0.01254343, -0.00917436, -0.02964418,\n",
       "         0.06955672, -0.03751549, -0.03403565, -0.01659165,  0.02562604,\n",
       "         0.03446386, -0.021539  ,  0.02483129,  0.04832441, -0.00319649,\n",
       "        -0.03221948, -0.03976148, -0.00303264,  0.02321287,  0.0637097 ],\n",
       "       dtype=float32),\n",
       " array([[-0.28094342,  0.14030711, -0.08939461,  0.35000727,  0.33748943,\n",
       "          0.35723937,  0.42395434, -0.05621555, -0.19840422,  0.24455507],\n",
       "        [ 0.18288024,  0.07134864,  0.03152548, -0.11942678,  0.3304372 ,\n",
       "          0.12435316,  0.15103795, -0.1747219 ,  0.20793746, -0.2853643 ],\n",
       "        [ 0.11672981,  0.36332253,  0.21174562,  0.22283858, -0.06799238,\n",
       "         -0.02651043, -0.31689683,  0.19320396, -0.1245047 ,  0.30379245],\n",
       "        [ 0.00622755,  0.14532202,  0.40746787, -0.15682332,  0.46152127,\n",
       "          0.04321561,  0.03136938,  0.02584963,  0.3240089 , -0.06227179],\n",
       "        [ 0.22864051,  0.03794543,  0.1473128 ,  0.12104677, -0.37400308,\n",
       "          0.15967394, -0.14336304, -0.3810459 ,  0.02170564, -0.3056976 ],\n",
       "        [ 0.04951622, -0.16032697, -0.18539043, -0.11601771,  0.16482234,\n",
       "          0.06756439,  0.36110422, -0.04405421,  0.03186782,  0.20005316],\n",
       "        [ 0.36573347,  0.21321715, -0.39278668,  0.12541293,  0.24740203,\n",
       "          0.39274377,  0.09911926, -0.2063467 , -0.21745257, -0.04537374],\n",
       "        [ 0.3754766 , -0.09106667,  0.2526098 , -0.12388941,  0.1614116 ,\n",
       "          0.13278675,  0.24163324, -0.36409223,  0.29936695, -0.18553825],\n",
       "        [-0.1744935 , -0.18668662, -0.42499268, -0.22118782,  0.20183931,\n",
       "          0.09897705, -0.00242032, -0.21278876,  0.12590328, -0.4586524 ],\n",
       "        [-0.40722254,  0.22720897,  0.33598915,  0.04751403, -0.07196997,\n",
       "         -0.10506678,  0.33656126,  0.07369947,  0.10598912,  0.29361567],\n",
       "        [-0.44756556,  0.41321787,  0.20011757,  0.3046373 , -0.36600554,\n",
       "         -0.19676687,  0.14921564,  0.3506696 ,  0.2700803 , -0.36422393],\n",
       "        [ 0.40410465, -0.26098678,  0.22527109, -0.04366427,  0.00985286,\n",
       "          0.32422426,  0.22714624,  0.00437103, -0.28249454,  0.07670042],\n",
       "        [-0.3051283 , -0.06854638,  0.27057275,  0.11892485,  0.36132216,\n",
       "         -0.4333396 ,  0.37833536,  0.14297281, -0.14483503,  0.23432489],\n",
       "        [-0.16088313,  0.18176241, -0.22330815, -0.42471486,  0.20991187,\n",
       "         -0.10702679, -0.1236138 ,  0.18968089, -0.42099997, -0.09153327],\n",
       "        [ 0.04312571,  0.35812262,  0.3748781 , -0.35782558,  0.33048338,\n",
       "         -0.32050028,  0.18319814, -0.10976418, -0.0241778 , -0.11549769],\n",
       "        [ 0.18411304,  0.21009643, -0.39592636, -0.14047106, -0.03291107,\n",
       "          0.19447419,  0.19365437, -0.41093808, -0.3347005 ,  0.36128804],\n",
       "        [ 0.02604366,  0.28638437, -0.32415307,  0.0147515 ,  0.44299033,\n",
       "          0.0489638 ,  0.15515512, -0.30881554, -0.26296368,  0.13795117],\n",
       "        [ 0.0851688 ,  0.02109799,  0.12838338,  0.1197466 ,  0.2877002 ,\n",
       "          0.26503792,  0.18950774,  0.39850003,  0.41902998,  0.39770073],\n",
       "        [-0.40514585,  0.27150613,  0.21957874, -0.24317373, -0.37448782,\n",
       "          0.00679057,  0.31939176,  0.05245951,  0.00373496,  0.05626881],\n",
       "        [ 0.43784195, -0.46846566,  0.24284643, -0.07539097,  0.08077961,\n",
       "          0.28236   , -0.21024008,  0.38517335, -0.2357056 , -0.42475522]],\n",
       "       dtype=float32),\n",
       " array([-0.01133064, -0.02182716, -0.01995913, -0.01524751,  0.01071047,\n",
       "        -0.03135087,  0.02055092,  0.03647978, -0.02776727, -0.02972507],\n",
       "       dtype=float32),\n",
       " array([[ 0.57207507],\n",
       "        [-0.14134374],\n",
       "        [-0.02521661],\n",
       "        [-0.00159134],\n",
       "        [ 0.37244985],\n",
       "        [-0.2221358 ],\n",
       "        [ 0.3326002 ],\n",
       "        [ 0.673551  ],\n",
       "        [-0.47199866],\n",
       "        [-0.2925676 ]], dtype=float32),\n",
       " array([0.02543866], dtype=float32)]"
      ]
     },
     "execution_count": 85,
     "metadata": {},
     "output_type": "execute_result"
    }
   ],
   "source": [
    "model_clf.get_weights()"
   ]
  },
  {
   "cell_type": "markdown",
   "id": "3e2a9a06-ad5c-487b-b686-f476d1354112",
   "metadata": {},
   "source": [
    "## Q17. Store the model's training history as a Pandas DataFrame."
   ]
  },
  {
   "cell_type": "code",
   "execution_count": 80,
   "id": "41775959-fc86-460b-9e97-97ab000d77cd",
   "metadata": {},
   "outputs": [
    {
     "data": {
      "text/html": [
       "<div>\n",
       "<style scoped>\n",
       "    .dataframe tbody tr th:only-of-type {\n",
       "        vertical-align: middle;\n",
       "    }\n",
       "\n",
       "    .dataframe tbody tr th {\n",
       "        vertical-align: top;\n",
       "    }\n",
       "\n",
       "    .dataframe thead th {\n",
       "        text-align: right;\n",
       "    }\n",
       "</style>\n",
       "<table border=\"1\" class=\"dataframe\">\n",
       "  <thead>\n",
       "    <tr style=\"text-align: right;\">\n",
       "      <th></th>\n",
       "      <th>loss</th>\n",
       "      <th>accuracy</th>\n",
       "      <th>val_loss</th>\n",
       "      <th>val_accuracy</th>\n",
       "    </tr>\n",
       "  </thead>\n",
       "  <tbody>\n",
       "    <tr>\n",
       "      <th>0</th>\n",
       "      <td>1.962806</td>\n",
       "      <td>0.513904</td>\n",
       "      <td>1.609488</td>\n",
       "      <td>0.543333</td>\n",
       "    </tr>\n",
       "    <tr>\n",
       "      <th>1</th>\n",
       "      <td>1.572209</td>\n",
       "      <td>0.556174</td>\n",
       "      <td>1.545068</td>\n",
       "      <td>0.553333</td>\n",
       "    </tr>\n",
       "    <tr>\n",
       "      <th>2</th>\n",
       "      <td>1.460061</td>\n",
       "      <td>0.586207</td>\n",
       "      <td>1.431818</td>\n",
       "      <td>0.596667</td>\n",
       "    </tr>\n",
       "    <tr>\n",
       "      <th>3</th>\n",
       "      <td>1.341382</td>\n",
       "      <td>0.614016</td>\n",
       "      <td>1.380570</td>\n",
       "      <td>0.596667</td>\n",
       "    </tr>\n",
       "    <tr>\n",
       "      <th>4</th>\n",
       "      <td>1.184649</td>\n",
       "      <td>0.625139</td>\n",
       "      <td>1.343889</td>\n",
       "      <td>0.606667</td>\n",
       "    </tr>\n",
       "    <tr>\n",
       "      <th>5</th>\n",
       "      <td>1.062762</td>\n",
       "      <td>0.638487</td>\n",
       "      <td>1.158239</td>\n",
       "      <td>0.630000</td>\n",
       "    </tr>\n",
       "    <tr>\n",
       "      <th>6</th>\n",
       "      <td>1.007504</td>\n",
       "      <td>0.640712</td>\n",
       "      <td>1.091802</td>\n",
       "      <td>0.623333</td>\n",
       "    </tr>\n",
       "    <tr>\n",
       "      <th>7</th>\n",
       "      <td>0.927017</td>\n",
       "      <td>0.644049</td>\n",
       "      <td>0.999850</td>\n",
       "      <td>0.630000</td>\n",
       "    </tr>\n",
       "    <tr>\n",
       "      <th>8</th>\n",
       "      <td>0.895856</td>\n",
       "      <td>0.647386</td>\n",
       "      <td>0.953241</td>\n",
       "      <td>0.636667</td>\n",
       "    </tr>\n",
       "    <tr>\n",
       "      <th>9</th>\n",
       "      <td>0.889382</td>\n",
       "      <td>0.666296</td>\n",
       "      <td>1.012220</td>\n",
       "      <td>0.643333</td>\n",
       "    </tr>\n",
       "  </tbody>\n",
       "</table>\n",
       "</div>"
      ],
      "text/plain": [
       "       loss  accuracy  val_loss  val_accuracy\n",
       "0  1.962806  0.513904  1.609488      0.543333\n",
       "1  1.572209  0.556174  1.545068      0.553333\n",
       "2  1.460061  0.586207  1.431818      0.596667\n",
       "3  1.341382  0.614016  1.380570      0.596667\n",
       "4  1.184649  0.625139  1.343889      0.606667\n",
       "5  1.062762  0.638487  1.158239      0.630000\n",
       "6  1.007504  0.640712  1.091802      0.623333\n",
       "7  0.927017  0.644049  0.999850      0.630000\n",
       "8  0.895856  0.647386  0.953241      0.636667\n",
       "9  0.889382  0.666296  1.012220      0.643333"
      ]
     },
     "execution_count": 80,
     "metadata": {},
     "output_type": "execute_result"
    }
   ],
   "source": [
    "model_hist=pd.DataFrame(history.history)\n",
    "model_hist"
   ]
  },
  {
   "cell_type": "markdown",
   "id": "658649f0-22b3-4937-a0dc-0d4fcb46b58d",
   "metadata": {},
   "source": [
    "## Q18. Plot the model's training history."
   ]
  },
  {
   "cell_type": "code",
   "execution_count": 81,
   "id": "a3f78284-0abe-4300-a4b9-747ea9ce4da3",
   "metadata": {},
   "outputs": [
    {
     "data": {
      "text/plain": [
       "<AxesSubplot: >"
      ]
     },
     "execution_count": 81,
     "metadata": {},
     "output_type": "execute_result"
    },
    {
     "data": {
      "image/png": "[encoded data removed]",
      "text/plain": [
       "<Figure size 640x480 with 1 Axes>"
      ]
     },
     "metadata": {},
     "output_type": "display_data"
    }
   ],
   "source": [
    "model_hist.plot()"
   ]
  },
  {
   "cell_type": "markdown",
   "id": "1692994c-ec79-45ca-be3d-cfe03fc8a060",
   "metadata": {},
   "source": [
    "## Q19. Evaluate the model's performance using the test data."
   ]
  },
  {
   "cell_type": "code",
   "execution_count": 82,
   "id": "dff87c12-91ee-4631-81df-c7546cfa1521",
   "metadata": {},
   "outputs": [
    {
     "name": "stdout",
     "output_type": "stream",
     "text": [
      "13/13 [==============================] - 0s 1ms/step - loss: 0.7880 - accuracy: 0.6375\n"
     ]
    },
    {
     "data": {
      "text/plain": [
       "[0.7880224585533142, 0.637499988079071]"
      ]
     },
     "execution_count": 82,
     "metadata": {},
     "output_type": "execute_result"
    }
   ],
   "source": [
    "model_clf.evaluate(X_test,y_test)"
   ]
  },
  {
   "cell_type": "code",
   "execution_count": null,
   "id": "c5ecffbf-7482-4869-9182-f3fc580b2c9e",
   "metadata": {},
   "outputs": [],
   "source": []
  },
  {
   "cell_type": "code",
   "execution_count": null,
   "id": "7fa602c8-2228-454d-919a-c54ddac87aba",
   "metadata": {},
   "outputs": [],
   "source": []
  }
 ],
 "metadata": {
  "kernelspec": {
   "display_name": "Python 3 (ipykernel)",
   "language": "python",
   "name": "python3"
  },
  "language_info": {
   "codemirror_mode": {
    "name": "ipython",
    "version": 3
   },
   "file_extension": ".py",
   "mimetype": "text/x-python",
   "name": "python",
   "nbconvert_exporter": "python",
   "pygments_lexer": "ipython3",
   "version": "3.10.8"
  }
 },
 "nbformat": 4,
 "nbformat_minor": 5
}
