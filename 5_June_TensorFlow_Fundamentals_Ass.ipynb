{
 "cells": [
  {
   "cell_type": "markdown",
   "id": "59c5572a-f837-45fa-9d9a-f243d810460b",
   "metadata": {},
   "source": [
    "# Part 1: Theoretical Questions"
   ]
  },
  {
   "cell_type": "markdown",
   "id": "ca994b53-8d3f-4347-8edd-522634813261",
   "metadata": {},
   "source": [
    "## 1. What are the different data structures used in Tensorflow?. Give some examples"
   ]
  },
  {
   "cell_type": "raw",
   "id": "21a01dc1-5a87-46b1-b266-b6e902054f7f",
   "metadata": {},
   "source": [
    "1. Scalar or Rank-0 Tensor \n",
    "Eg. x = tf.constant(6.)\n",
    "2. Vectors or Rank-1 Tensor\n",
    "Eg. y = tf.constant([4.,6.,8.])\n",
    "3. Matrices or Rank-2 Tensors\n",
    "Eg. z = tf.constant([[1.,2.],\n",
    "                    [3.,4.]])"
   ]
  },
  {
   "cell_type": "markdown",
   "id": "39148826-d002-46d7-ae92-69e1042b4dbf",
   "metadata": {},
   "source": [
    "## 2. How does the TensorFlow constant differ from a TensorFlow variable? Explain with an example"
   ]
  },
  {
   "cell_type": "raw",
   "id": "1b871e13-0f39-4f47-91d1-0fe80df058d6",
   "metadata": {},
   "source": [
    "Sol : A TensorFlow variable is a type of tensor that can be modified during the execution of a TensorFlow graph. In other words, it is a tensor whose value can change over time. Variables are typically used to store model parameters, such as weights and biases, which are adjusted during the training process to improve model performance.\n",
    "Eg. x = tf.Variable(2.,3.,4.)\n",
    "    x.assign([1.,5.,8.])\n",
    "A TensorFlow constant, on the other hand, is a type of tensor whose value cannot be changed during the execution of a TensorFlow graph. In other words, it is a tensor whose value remains constant throughout the execution of the graph. Constants are typically used to store input data or other fixed values that are used in the model.\n",
    "Eg. const = tf.constant([1,2,3,4])"
   ]
  },
  {
   "cell_type": "markdown",
   "id": "a611d485-07c8-4515-80d7-095d30557ef3",
   "metadata": {},
   "source": [
    "## 3. Describe the process of matrix addition, multiplication, and element-wise operations in TensorFlow."
   ]
  },
  {
   "cell_type": "code",
   "execution_count": null,
   "id": "1c03af0c-9de4-4cc0-a17d-ef39c552fe72",
   "metadata": {},
   "outputs": [],
   "source": []
  },
  {
   "cell_type": "markdown",
   "id": "f4918483-0414-48e9-bc5a-468daf278d94",
   "metadata": {},
   "source": [
    "# Part 2: Practical Implementation"
   ]
  },
  {
   "cell_type": "markdown",
   "id": "cb28352d-a482-4542-8000-f344579e43ba",
   "metadata": {},
   "source": [
    "## Task 1: Creating and Manipulating Matrices"
   ]
  },
  {
   "cell_type": "markdown",
   "id": "3258d0ee-8907-4db5-bd76-f20e8d31cf85",
   "metadata": {},
   "source": [
    "### 1. Create a normal matrix A with dimensions 2x2, using TensorFlow's random_normal function. Display the values of matrix A."
   ]
  },
  {
   "cell_type": "code",
   "execution_count": 2,
   "id": "119e5f14-be5d-4c94-b43a-85f228225b22",
   "metadata": {},
   "outputs": [
    {
     "name": "stdout",
     "output_type": "stream",
     "text": [
      "Collecting tensorflow\n",
      "  Downloading tensorflow-2.13.0-cp310-cp310-manylinux_2_17_x86_64.manylinux2014_x86_64.whl (524.1 MB)\n",
      "\u001b[2K     \u001b[90m━━━━━━━━━━━━━━━━━━━━━━━━━━━━━━━━━━━━━━━\u001b[0m \u001b[32m524.1/524.1 MB\u001b[0m \u001b[31m2.9 MB/s\u001b[0m eta \u001b[36m0:00:00\u001b[0m00:01\u001b[0m00:01\u001b[0m\n",
      "\u001b[?25hCollecting opt-einsum>=2.3.2\n",
      "  Downloading opt_einsum-3.3.0-py3-none-any.whl (65 kB)\n",
      "\u001b[2K     \u001b[90m━━━━━━━━━━━━━━━━━━━━━━━━━━━━━━━━━━━━━━━━\u001b[0m \u001b[32m65.5/65.5 kB\u001b[0m \u001b[31m11.5 MB/s\u001b[0m eta \u001b[36m0:00:00\u001b[0m\n",
      "\u001b[?25hCollecting wrapt>=1.11.0\n",
      "  Downloading wrapt-1.15.0-cp310-cp310-manylinux_2_5_x86_64.manylinux1_x86_64.manylinux_2_17_x86_64.manylinux2014_x86_64.whl (78 kB)\n",
      "\u001b[2K     \u001b[90m━━━━━━━━━━━━━━━━━━━━━━━━━━━━━━━━━━━━━━━━\u001b[0m \u001b[32m78.4/78.4 kB\u001b[0m \u001b[31m12.9 MB/s\u001b[0m eta \u001b[36m0:00:00\u001b[0m\n",
      "\u001b[?25hRequirement already satisfied: protobuf!=4.21.0,!=4.21.1,!=4.21.2,!=4.21.3,!=4.21.4,!=4.21.5,<5.0.0dev,>=3.20.3 in /opt/conda/lib/python3.10/site-packages (from tensorflow) (4.21.11)\n",
      "Requirement already satisfied: h5py>=2.9.0 in /opt/conda/lib/python3.10/site-packages (from tensorflow) (3.7.0)\n",
      "Collecting tensorboard<2.14,>=2.13\n",
      "  Downloading tensorboard-2.13.0-py3-none-any.whl (5.6 MB)\n",
      "\u001b[2K     \u001b[90m━━━━━━━━━━━━━━━━━━━━━━━━━━━━━━━━━━━━━━━━\u001b[0m \u001b[32m5.6/5.6 MB\u001b[0m \u001b[31m69.2 MB/s\u001b[0m eta \u001b[36m0:00:00\u001b[0m:00:01\u001b[0m00:01\u001b[0m\n",
      "\u001b[?25hCollecting astunparse>=1.6.0\n",
      "  Downloading astunparse-1.6.3-py2.py3-none-any.whl (12 kB)\n",
      "Requirement already satisfied: typing-extensions<4.6.0,>=3.6.6 in /opt/conda/lib/python3.10/site-packages (from tensorflow) (4.4.0)\n",
      "Requirement already satisfied: numpy<=1.24.3,>=1.22 in /opt/conda/lib/python3.10/site-packages (from tensorflow) (1.23.5)\n",
      "Collecting tensorflow-estimator<2.14,>=2.13.0\n",
      "  Downloading tensorflow_estimator-2.13.0-py2.py3-none-any.whl (440 kB)\n",
      "\u001b[2K     \u001b[90m━━━━━━━━━━━━━━━━━━━━━━━━━━━━━━━━━━━━━━\u001b[0m \u001b[32m440.8/440.8 kB\u001b[0m \u001b[31m39.5 MB/s\u001b[0m eta \u001b[36m0:00:00\u001b[0m\n",
      "\u001b[?25hCollecting absl-py>=1.0.0\n",
      "  Downloading absl_py-1.4.0-py3-none-any.whl (126 kB)\n",
      "\u001b[2K     \u001b[90m━━━━━━━━━━━━━━━━━━━━━━━━━━━━━━━━━━━━━━\u001b[0m \u001b[32m126.5/126.5 kB\u001b[0m \u001b[31m22.8 MB/s\u001b[0m eta \u001b[36m0:00:00\u001b[0m\n",
      "\u001b[?25hRequirement already satisfied: six>=1.12.0 in /opt/conda/lib/python3.10/site-packages (from tensorflow) (1.16.0)\n",
      "Collecting google-pasta>=0.1.1\n",
      "  Downloading google_pasta-0.2.0-py3-none-any.whl (57 kB)\n",
      "\u001b[2K     \u001b[90m━━━━━━━━━━━━━━━━━━━━━━━━━━━━━━━━━━━━━━━━\u001b[0m \u001b[32m57.5/57.5 kB\u001b[0m \u001b[31m10.7 MB/s\u001b[0m eta \u001b[36m0:00:00\u001b[0m\n",
      "\u001b[?25hCollecting termcolor>=1.1.0\n",
      "  Downloading termcolor-2.3.0-py3-none-any.whl (6.9 kB)\n",
      "Collecting tensorflow-io-gcs-filesystem>=0.23.1\n",
      "  Downloading tensorflow_io_gcs_filesystem-0.34.0-cp310-cp310-manylinux_2_12_x86_64.manylinux2010_x86_64.whl (2.4 MB)\n",
      "\u001b[2K     \u001b[90m━━━━━━━━━━━━━━━━━━━━━━━━━━━━━━━━━━━━━━━━\u001b[0m \u001b[32m2.4/2.4 MB\u001b[0m \u001b[31m64.4 MB/s\u001b[0m eta \u001b[36m0:00:00\u001b[0m00:01\u001b[0m\n",
      "\u001b[?25hCollecting gast<=0.4.0,>=0.2.1\n",
      "  Downloading gast-0.4.0-py3-none-any.whl (9.8 kB)\n",
      "Collecting grpcio<2.0,>=1.24.3\n",
      "  Downloading grpcio-1.58.0-cp310-cp310-manylinux_2_17_x86_64.manylinux2014_x86_64.whl (5.3 MB)\n",
      "\u001b[2K     \u001b[90m━━━━━━━━━━━━━━━━━━━━━━━━━━━━━━━━━━━━━━━━\u001b[0m \u001b[32m5.3/5.3 MB\u001b[0m \u001b[31m66.5 MB/s\u001b[0m eta \u001b[36m0:00:00\u001b[0m00:01\u001b[0m:00:01\u001b[0m\n",
      "\u001b[?25hRequirement already satisfied: packaging in /opt/conda/lib/python3.10/site-packages (from tensorflow) (22.0)\n",
      "Requirement already satisfied: setuptools in /opt/conda/lib/python3.10/site-packages (from tensorflow) (65.5.1)\n",
      "Collecting flatbuffers>=23.1.21\n",
      "  Downloading flatbuffers-23.5.26-py2.py3-none-any.whl (26 kB)\n",
      "Collecting keras<2.14,>=2.13.1\n",
      "  Downloading keras-2.13.1-py3-none-any.whl (1.7 MB)\n",
      "\u001b[2K     \u001b[90m━━━━━━━━━━━━━━━━━━━━━━━━━━━━━━━━━━━━━━━━\u001b[0m \u001b[32m1.7/1.7 MB\u001b[0m \u001b[31m68.5 MB/s\u001b[0m eta \u001b[36m0:00:00\u001b[0m\n",
      "\u001b[?25hCollecting libclang>=13.0.0\n",
      "  Downloading libclang-16.0.6-py2.py3-none-manylinux2010_x86_64.whl (22.9 MB)\n",
      "\u001b[2K     \u001b[90m━━━━━━━━━━━━━━━━━━━━━━━━━━━━━━━━━━━━━━━━\u001b[0m \u001b[32m22.9/22.9 MB\u001b[0m \u001b[31m50.2 MB/s\u001b[0m eta \u001b[36m0:00:00\u001b[0m00:01\u001b[0m00:01\u001b[0m\n",
      "\u001b[?25hRequirement already satisfied: wheel<1.0,>=0.23.0 in /opt/conda/lib/python3.10/site-packages (from astunparse>=1.6.0->tensorflow) (0.38.4)\n",
      "Collecting markdown>=2.6.8\n",
      "  Downloading Markdown-3.4.4-py3-none-any.whl (94 kB)\n",
      "\u001b[2K     \u001b[90m━━━━━━━━━━━━━━━━━━━━━━━━━━━━━━━━━━━━━━━━\u001b[0m \u001b[32m94.2/94.2 kB\u001b[0m \u001b[31m16.0 MB/s\u001b[0m eta \u001b[36m0:00:00\u001b[0m\n",
      "\u001b[?25hCollecting google-auth<3,>=1.6.3\n",
      "  Downloading google_auth-2.23.0-py2.py3-none-any.whl (181 kB)\n",
      "\u001b[2K     \u001b[90m━━━━━━━━━━━━━━━━━━━━━━━━━━━━━━━━━━━━━━\u001b[0m \u001b[32m181.4/181.4 kB\u001b[0m \u001b[31m30.3 MB/s\u001b[0m eta \u001b[36m0:00:00\u001b[0m\n",
      "\u001b[?25hRequirement already satisfied: requests<3,>=2.21.0 in /opt/conda/lib/python3.10/site-packages (from tensorboard<2.14,>=2.13->tensorflow) (2.28.1)\n",
      "Collecting werkzeug>=1.0.1\n",
      "  Downloading werkzeug-2.3.7-py3-none-any.whl (242 kB)\n",
      "\u001b[2K     \u001b[90m━━━━━━━━━━━━━━━━━━━━━━━━━━━━━━━━━━━━━━\u001b[0m \u001b[32m242.2/242.2 kB\u001b[0m \u001b[31m30.3 MB/s\u001b[0m eta \u001b[36m0:00:00\u001b[0m\n",
      "\u001b[?25hCollecting tensorboard-data-server<0.8.0,>=0.7.0\n",
      "  Downloading tensorboard_data_server-0.7.1-py3-none-manylinux2014_x86_64.whl (6.6 MB)\n",
      "\u001b[2K     \u001b[90m━━━━━━━━━━━━━━━━━━━━━━━━━━━━━━━━━━━━━━━━\u001b[0m \u001b[32m6.6/6.6 MB\u001b[0m \u001b[31m69.9 MB/s\u001b[0m eta \u001b[36m0:00:00\u001b[0m00:01\u001b[0m00:01\u001b[0m\n",
      "\u001b[?25hCollecting google-auth-oauthlib<1.1,>=0.5\n",
      "  Downloading google_auth_oauthlib-1.0.0-py2.py3-none-any.whl (18 kB)\n",
      "Collecting cachetools<6.0,>=2.0.0\n",
      "  Downloading cachetools-5.3.1-py3-none-any.whl (9.3 kB)\n",
      "Collecting rsa<5,>=3.1.4\n",
      "  Downloading rsa-4.9-py3-none-any.whl (34 kB)\n",
      "Collecting pyasn1-modules>=0.2.1\n",
      "  Downloading pyasn1_modules-0.3.0-py2.py3-none-any.whl (181 kB)\n",
      "\u001b[2K     \u001b[90m━━━━━━━━━━━━━━━━━━━━━━━━━━━━━━━━━━━━━━\u001b[0m \u001b[32m181.3/181.3 kB\u001b[0m \u001b[31m26.9 MB/s\u001b[0m eta \u001b[36m0:00:00\u001b[0m\n",
      "\u001b[?25hRequirement already satisfied: urllib3<2.0 in /opt/conda/lib/python3.10/site-packages (from google-auth<3,>=1.6.3->tensorboard<2.14,>=2.13->tensorflow) (1.26.13)\n",
      "Collecting requests-oauthlib>=0.7.0\n",
      "  Downloading requests_oauthlib-1.3.1-py2.py3-none-any.whl (23 kB)\n",
      "Requirement already satisfied: charset-normalizer<3,>=2 in /opt/conda/lib/python3.10/site-packages (from requests<3,>=2.21.0->tensorboard<2.14,>=2.13->tensorflow) (2.1.1)\n",
      "Requirement already satisfied: idna<4,>=2.5 in /opt/conda/lib/python3.10/site-packages (from requests<3,>=2.21.0->tensorboard<2.14,>=2.13->tensorflow) (3.4)\n",
      "Requirement already satisfied: certifi>=2017.4.17 in /opt/conda/lib/python3.10/site-packages (from requests<3,>=2.21.0->tensorboard<2.14,>=2.13->tensorflow) (2022.12.7)\n",
      "Requirement already satisfied: MarkupSafe>=2.1.1 in /opt/conda/lib/python3.10/site-packages (from werkzeug>=1.0.1->tensorboard<2.14,>=2.13->tensorflow) (2.1.1)\n",
      "Collecting pyasn1<0.6.0,>=0.4.6\n",
      "  Downloading pyasn1-0.5.0-py2.py3-none-any.whl (83 kB)\n",
      "\u001b[2K     \u001b[90m━━━━━━━━━━━━━━━━━━━━━━━━━━━━━━━━━━━━━━━━\u001b[0m \u001b[32m83.9/83.9 kB\u001b[0m \u001b[31m15.5 MB/s\u001b[0m eta \u001b[36m0:00:00\u001b[0m\n",
      "\u001b[?25hRequirement already satisfied: oauthlib>=3.0.0 in /opt/conda/lib/python3.10/site-packages (from requests-oauthlib>=0.7.0->google-auth-oauthlib<1.1,>=0.5->tensorboard<2.14,>=2.13->tensorflow) (3.2.2)\n",
      "Installing collected packages: libclang, flatbuffers, wrapt, werkzeug, termcolor, tensorflow-io-gcs-filesystem, tensorflow-estimator, tensorboard-data-server, pyasn1, opt-einsum, markdown, keras, grpcio, google-pasta, gast, cachetools, astunparse, absl-py, rsa, requests-oauthlib, pyasn1-modules, google-auth, google-auth-oauthlib, tensorboard, tensorflow\n",
      "Successfully installed absl-py-1.4.0 astunparse-1.6.3 cachetools-5.3.1 flatbuffers-23.5.26 gast-0.4.0 google-auth-2.23.0 google-auth-oauthlib-1.0.0 google-pasta-0.2.0 grpcio-1.58.0 keras-2.13.1 libclang-16.0.6 markdown-3.4.4 opt-einsum-3.3.0 pyasn1-0.5.0 pyasn1-modules-0.3.0 requests-oauthlib-1.3.1 rsa-4.9 tensorboard-2.13.0 tensorboard-data-server-0.7.1 tensorflow-2.13.0 tensorflow-estimator-2.13.0 tensorflow-io-gcs-filesystem-0.34.0 termcolor-2.3.0 werkzeug-2.3.7 wrapt-1.15.0\n",
      "Note: you may need to restart the kernel to use updated packages.\n"
     ]
    }
   ],
   "source": [
    "pip install tensorflow"
   ]
  },
  {
   "cell_type": "code",
   "execution_count": 3,
   "id": "2d8ec998-8f67-435d-b0cb-5dc0d321109d",
   "metadata": {},
   "outputs": [
    {
     "name": "stderr",
     "output_type": "stream",
     "text": [
      "2023-09-19 06:13:41.904950: I tensorflow/tsl/cuda/cudart_stub.cc:28] Could not find cuda drivers on your machine, GPU will not be used.\n",
      "2023-09-19 06:13:41.977997: I tensorflow/tsl/cuda/cudart_stub.cc:28] Could not find cuda drivers on your machine, GPU will not be used.\n",
      "2023-09-19 06:13:41.979578: I tensorflow/core/platform/cpu_feature_guard.cc:182] This TensorFlow binary is optimized to use available CPU instructions in performance-critical operations.\n",
      "To enable the following instructions: AVX2 FMA, in other operations, rebuild TensorFlow with the appropriate compiler flags.\n",
      "2023-09-19 06:13:43.235320: W tensorflow/compiler/tf2tensorrt/utils/py_utils.cc:38] TF-TRT Warning: Could not find TensorRT\n"
     ]
    },
    {
     "name": "stdout",
     "output_type": "stream",
     "text": [
      "tf.Tensor(\n",
      "[[-0.6028863 -1.8400122 -1.0856332]\n",
      " [ 1.4129685 -1.4446112  2.0935016]\n",
      " [ 1.1400328 -1.5776372 -1.1158601]], shape=(3, 3), dtype=float32)\n"
     ]
    }
   ],
   "source": [
    "import tensorflow as tf\n",
    "A = tf.random.normal((3,3))\n",
    "print(A)"
   ]
  },
  {
   "cell_type": "markdown",
   "id": "d10928fb-2eb7-4598-b397-e8ef687ed820",
   "metadata": {},
   "source": [
    "### 2. Create a Gaussian matrix B with dimensions 4x4, using TensorFlow's truncated_normal function. Display the values of matrix B"
   ]
  },
  {
   "cell_type": "code",
   "execution_count": 4,
   "id": "737b8a54-686e-4b23-85b7-b5f492b82701",
   "metadata": {},
   "outputs": [
    {
     "name": "stdout",
     "output_type": "stream",
     "text": [
      "tf.Tensor(\n",
      "[[-1.1190333  -0.99588424 -0.971923   -0.09230219]\n",
      " [-1.3465135  -0.9314522  -0.40586376  0.8541956 ]\n",
      " [-0.8985767  -1.1247842  -0.9296207   0.4713508 ]\n",
      " [ 0.24272919 -0.5514233   0.110128    0.6977431 ]], shape=(4, 4), dtype=float32)\n"
     ]
    }
   ],
   "source": [
    "B = tf.random.truncated_normal((4,4))\n",
    "print(B)"
   ]
  },
  {
   "cell_type": "markdown",
   "id": "a89995e6-847f-49e6-8ed1-868cb0f1ddb0",
   "metadata": {},
   "source": [
    "### 3. Create a matrix C with dimensions 2x2, where the values are drawn from a normal distribution with a mean of 2 and a standard deviation of 0.5, using TensorFlow's random.normal function. Display the values of matrix C"
   ]
  },
  {
   "cell_type": "code",
   "execution_count": 5,
   "id": "efab12c5-f64e-4fa4-8550-6228d10815eb",
   "metadata": {},
   "outputs": [
    {
     "name": "stdout",
     "output_type": "stream",
     "text": [
      "tf.Tensor(\n",
      "[[1.2656236 3.0320735]\n",
      " [1.4854817 1.7620182]], shape=(2, 2), dtype=float32)\n"
     ]
    }
   ],
   "source": [
    "C = tf.random.normal((2,2),mean=2,stddev=0.5)\n",
    "print(C)"
   ]
  },
  {
   "cell_type": "markdown",
   "id": "2a5cc2f7-de36-4ed4-9909-d912cb0f5b24",
   "metadata": {},
   "source": [
    "### 4. Perform matrix addition between matrix A and matrix B, and store the result in matrix D."
   ]
  },
  {
   "cell_type": "markdown",
   "id": "55d0698d-a3c7-416e-af9b-1779b397b67f",
   "metadata": {},
   "source": [
    "It is not possible since the matrices are of different shape."
   ]
  },
  {
   "cell_type": "markdown",
   "id": "d58dd46f-2377-4aeb-8c54-556b2dc3e24b",
   "metadata": {},
   "source": [
    "### 5. Perform matrix multiplication between matrix C and matrix D, and store the result in matrix E."
   ]
  },
  {
   "cell_type": "raw",
   "id": "65659cac-01f4-4376-ba7e-a8570de10d59",
   "metadata": {},
   "source": [
    "since 4th part is not possible so it will give error"
   ]
  },
  {
   "cell_type": "markdown",
   "id": "17fa544d-ed7d-4ffa-8ee1-a6c43d4e7706",
   "metadata": {},
   "source": [
    "## Task 2: Performing Additional Matrix Operations"
   ]
  },
  {
   "cell_type": "markdown",
   "id": "0282a5ee-7899-43a2-abee-1136a6f0e591",
   "metadata": {},
   "source": [
    "### 1. Create a matrix F with dimensions 2x2, initialized with random values using TensorFlow's random_uniform functions"
   ]
  },
  {
   "cell_type": "code",
   "execution_count": 11,
   "id": "d9731970-69cd-4e09-bc68-fb1d8a97feb7",
   "metadata": {},
   "outputs": [
    {
     "name": "stdout",
     "output_type": "stream",
     "text": [
      "tf.Tensor(\n",
      "[[0.17974246 0.5588732 ]\n",
      " [0.84498847 0.56375897]], shape=(2, 2), dtype=float32)\n"
     ]
    }
   ],
   "source": [
    "F = tf.random.uniform((2,2))\n",
    "print(F)"
   ]
  },
  {
   "cell_type": "markdown",
   "id": "f5d6a86e-0c2d-42da-a4fe-8b94454818bf",
   "metadata": {},
   "source": [
    "### 2. Calculate the transpose of matrix F and store the result in matrix G."
   ]
  },
  {
   "cell_type": "code",
   "execution_count": 13,
   "id": "d2a0e1e2-5003-40c7-8efb-8ac93e6b9de8",
   "metadata": {},
   "outputs": [
    {
     "name": "stdout",
     "output_type": "stream",
     "text": [
      "tf.Tensor(\n",
      "[[0.17974246 0.84498847]\n",
      " [0.5588732  0.56375897]], shape=(2, 2), dtype=float32)\n"
     ]
    }
   ],
   "source": [
    "G = tf.transpose(F)\n",
    "print(G)"
   ]
  },
  {
   "cell_type": "markdown",
   "id": "fa059b7a-2600-4ea5-8024-11e8ff27cee7",
   "metadata": {},
   "source": [
    "### 3. Calculate the element-wise exponential of matrix F and store the result in matrix H."
   ]
  },
  {
   "cell_type": "code",
   "execution_count": 15,
   "id": "221d8024-33f1-43bd-bb53-95ccf58d412e",
   "metadata": {},
   "outputs": [
    {
     "name": "stdout",
     "output_type": "stream",
     "text": [
      "tf.Tensor(\n",
      "[[1.1969091 1.7487009]\n",
      " [2.327951  1.7572656]], shape=(2, 2), dtype=float32)\n"
     ]
    }
   ],
   "source": [
    "H = tf.exp(F)\n",
    "print(H)"
   ]
  },
  {
   "cell_type": "markdown",
   "id": "bbc517d7-c68d-469e-8ce1-4e960ac5c087",
   "metadata": {},
   "source": [
    "### 4. Create a matrix I by concatenating matrix F and matrix G horizontally."
   ]
  },
  {
   "cell_type": "code",
   "execution_count": 19,
   "id": "0ef87cc1-dd3e-4091-bf57-2ee87c87e1fa",
   "metadata": {},
   "outputs": [
    {
     "name": "stdout",
     "output_type": "stream",
     "text": [
      "tf.Tensor(\n",
      "[[0.17974246 0.5588732  0.17974246 0.84498847]\n",
      " [0.84498847 0.56375897 0.5588732  0.56375897]], shape=(2, 4), dtype=float32)\n"
     ]
    }
   ],
   "source": [
    "I = tf.concat([F,G],axis=1)\n",
    "print(I)"
   ]
  },
  {
   "cell_type": "markdown",
   "id": "80f85669-f6cd-4352-8c1b-e2d3c9eb1b7a",
   "metadata": {},
   "source": [
    "### 5.Create a matrix J by concatenating matrix F and matrix H vertically. "
   ]
  },
  {
   "cell_type": "code",
   "execution_count": 23,
   "id": "67af3dfb-7d9c-4827-9041-fa80ae0af105",
   "metadata": {},
   "outputs": [
    {
     "name": "stdout",
     "output_type": "stream",
     "text": [
      "tf.Tensor(\n",
      "[[0.17974246 0.5588732 ]\n",
      " [0.84498847 0.56375897]\n",
      " [1.1969091  1.7487009 ]\n",
      " [2.327951   1.7572656 ]], shape=(4, 2), dtype=float32)\n"
     ]
    }
   ],
   "source": [
    "J = tf.concat([F,H],axis=0)\n",
    "print(J)"
   ]
  },
  {
   "cell_type": "code",
   "execution_count": null,
   "id": "e5bb9548-dd00-44fc-989c-58561e33bdc1",
   "metadata": {},
   "outputs": [],
   "source": []
  },
  {
   "cell_type": "code",
   "execution_count": null,
   "id": "c558665d-f36b-4154-ac88-ba0ab04576d9",
   "metadata": {},
   "outputs": [],
   "source": []
  },
  {
   "cell_type": "code",
   "execution_count": null,
   "id": "6369d4f9-0ee1-4b08-aacf-d78ca024f588",
   "metadata": {},
   "outputs": [],
   "source": []
  },
  {
   "cell_type": "code",
   "execution_count": null,
   "id": "8c1b447c-99a8-4565-9f0a-38381d28f52f",
   "metadata": {},
   "outputs": [],
   "source": []
  },
  {
   "cell_type": "code",
   "execution_count": null,
   "id": "dcc6b5cf-594f-4d33-abcb-206212048bde",
   "metadata": {},
   "outputs": [],
   "source": []
  },
  {
   "cell_type": "code",
   "execution_count": null,
   "id": "92989b96-f612-4849-bdd2-dcac12dd5448",
   "metadata": {},
   "outputs": [],
   "source": []
  },
  {
   "cell_type": "code",
   "execution_count": null,
   "id": "ffb2a7c3-5f34-49a8-bf50-27cf2d19917e",
   "metadata": {},
   "outputs": [],
   "source": []
  },
  {
   "cell_type": "code",
   "execution_count": null,
   "id": "5761ec89-c547-4ca8-84bc-b8bb29e79b48",
   "metadata": {},
   "outputs": [],
   "source": []
  }
 ],
 "metadata": {
  "kernelspec": {
   "display_name": "Python 3 (ipykernel)",
   "language": "python",
   "name": "python3"
  },
  "language_info": {
   "codemirror_mode": {
    "name": "ipython",
    "version": 3
   },
   "file_extension": ".py",
   "mimetype": "text/x-python",
   "name": "python",
   "nbconvert_exporter": "python",
   "pygments_lexer": "ipython3",
   "version": "3.10.8"
  }
 },
 "nbformat": 4,
 "nbformat_minor": 5
}
