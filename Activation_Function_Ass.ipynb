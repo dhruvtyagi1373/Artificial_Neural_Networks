{
 "cells": [
  {
   "cell_type": "markdown",
   "id": "431e825a-1e8a-4058-b58e-47115d7f521b",
   "metadata": {},
   "source": [
    "## Q1. What is an activation function in the context of artificial neural networks?"
   ]
  },
  {
   "cell_type": "markdown",
   "id": "3e51e2ff-ef07-4768-b105-f178595b8c5d",
   "metadata": {},
   "source": [
    "Sol : Activation functions are functions used in a neural network to compute the weighted sum of inputs and biases, which is in turn used to decide whether a neuron can be activated or not. It manipulates the presented data and produces an output for the neural network that contains the parameters in the data. The activation functions are also referred to as transfer functions in some literature. These can either be linear or nonlinear depending on the function it represents and is used to control the output of neural networks across different domains."
   ]
  },
  {
   "cell_type": "markdown",
   "id": "510afc6d-967a-4de2-8e4e-c085c6a808e0",
   "metadata": {},
   "source": [
    "## Q2. What are some common types of activation functions used in neural networks?"
   ]
  },
  {
   "cell_type": "markdown",
   "id": "6d5c9c9b-5e54-4d79-9862-21df9581468f",
   "metadata": {},
   "source": [
    "1. Sigmoid Activation Function\n",
    "2. ReLu(Rectified Linear Units) Activation Function\n",
    "   a. Leaky ReLu\n",
    "   b. Parametric ReLu\n",
    "3. Tanh Activation Function\n",
    "4. Softmax Activation Function"
   ]
  },
  {
   "cell_type": "markdown",
   "id": "9ec4e0ec-b43b-463d-a88e-55fc484893fc",
   "metadata": {},
   "source": [
    "## Q3. How do activation functions affect the training process and performance of a neural network?"
   ]
  },
  {
   "cell_type": "markdown",
   "id": "4d36514d-633b-4dc4-ba34-bb0417d584fc",
   "metadata": {},
   "source": [
    "Activation functions play a crucial role in the training process and performance of a neural network. They introduce non-linearity into the network, allowing it to learn complex patterns and make the network capable of approximating arbitrary functions. \n",
    "- Activation functions introduce non-linearity to the network. Without non-linear activation functions, the entire neural network would behave like a linear model, making it incapable of learning complex relationships in data.\n",
    "- During training, neural networks use gradient descent optimization algorithms to update their weights and minimize the loss function. Activation functions affect how gradients are propagated backward through the network during backpropagation.Some activation functions, like the sigmoid and tanh, suffer from the vanishing gradient problem. This problem occurs when gradients become very small, leading to slow convergence or getting stuck in training. Non-linear activation functions like ReLU mitigate this issue, as they have a more favorable gradient property."
   ]
  },
  {
   "cell_type": "markdown",
   "id": "1f5af7a5-ceac-446f-9827-c3bba36807f4",
   "metadata": {},
   "source": [
    "## Q4. How does the sigmoid activation function work? What are its advantages and disadvantages?"
   ]
  },
  {
   "cell_type": "markdown",
   "id": "31bdfa7b-0a71-4347-88e9-816b2373c812",
   "metadata": {},
   "source": [
    "The sigmoid function is a mathematical function that maps any input value to a value between 0 and 1, making it useful for binary classification and logistic regression problems. The shape of the sigmoid function is often referred to as an “S” shape, as it starts with a slow increase, rapidly approaches 1, and finally levels off.\n",
    "In artificial neural networks, the sigmoid function is commonly used as an activation function in the neurons. It introduces non-linearity into the model, allowing the neural network to learn more complex decision boundaries.\n",
    "\n",
    "Advantages:\n",
    "1. Produces output values between 0 and 1, which can be helpful for binary classification and logistic regression problems.\n",
    "2. Differentiable means that its derivative can be calculated, and it is easy to optimize the network by adjusting the weights and biases of the neurons.\n",
    "\n",
    "Disadvantages:\n",
    "1. It can produce output values close to 0 or 1, which can cause problems with the optimization algorithm.\n",
    "2. The gradient of the sigmoid function becomes very small near the output values of 0 or 1, which makes it difficult for the optimization algorithm to adjust the weights and biases of the neurons."
   ]
  },
  {
   "cell_type": "markdown",
   "id": "422c7309-6d1f-4603-9163-806affece1f4",
   "metadata": {},
   "source": [
    "## Q5.What is the rectified linear unit (ReLU) activation function? How does it differ from the sigmoid function?"
   ]
  },
  {
   "cell_type": "markdown",
   "id": "65f29ad5-3c24-46ba-ba96-7649863b3723",
   "metadata": {},
   "source": [
    "The function returns 0 if it receives any negative input, but for any positive value x, it returns that value back. Thus it gives an output that has a range from 0 to infinity.\n",
    "The main advantage of using the ReLU function over sigmoid function is that it does not activate all the neurons at the same time."
   ]
  },
  {
   "cell_type": "markdown",
   "id": "1eed724c-c862-48de-8f2f-76d97f42987c",
   "metadata": {},
   "source": [
    "## Q6. What are the benefits of using the ReLU activation function over the sigmoid function?"
   ]
  },
  {
   "cell_type": "markdown",
   "id": "93d1a334-f60e-4067-b74c-11bf888a24aa",
   "metadata": {},
   "source": [
    "Using the Rectified Linear Unit (ReLU) activation function over the sigmoid activation function offers several benefits in the context of training neural networks:\n",
    "\n",
    "- Mitigating the vanishing gradient problem:\n",
    "\n",
    "Sigmoid activation functions have an output range between 0 and 1, and their gradients become very small (close to zero) for large positive and negative inputs. This leads to the vanishing gradient problem, where gradients become too small during backpropagation, slowing down or even preventing convergence during training. In contrast, ReLU has a constant gradient of 1 for positive inputs, which helps mitigate the vanishing gradient problem.\n",
    "\n",
    "- Faster convergence:\n",
    "\n",
    "ReLU is computationally efficient and often leads to faster convergence during training compared to sigmoid. This is because ReLU neurons remain active (outputting non-zero values) for positive inputs, allowing for quicker weight updates and more rapid learning.\n",
    "\n",
    "- Sparsity and reduced overfitting:\n",
    "\n",
    "ReLU activation functions can introduce sparsity in neural networks, as some neurons may output zero values. This sparsity acts as a form of regularization, reducing the risk of overfitting by limiting the number of active neurons in the network."
   ]
  },
  {
   "cell_type": "markdown",
   "id": "962df9a9-69c6-473b-92b8-89270cfd7ace",
   "metadata": {},
   "source": [
    "## Q7. Explain the concept of \"leaky ReLU\" and how it addresses the vanishing gradient problem."
   ]
  },
  {
   "cell_type": "markdown",
   "id": "6e0dbf88-594e-4690-a0e8-ee90b155ecd8",
   "metadata": {},
   "source": [
    "Leaky ReLU function is nothing but an improved version of the ReLU function.For the ReLU function, the gradient is 0(vanishing gradient problem) for x<0, which would deactivate the neurons in that region.\n",
    "Leaky ReLU is defined to address this problem. Instead of defining the Relu function as 0 for negative values of x, we define it as an extremely small linear component of x. Here is the mathematical expression-\n",
    "\n",
    "f(x)= 0.01x, x<0\n",
    "    =   x, x>=0\n",
    "\n",
    "\n",
    "By making this small modification, the gradient of the left side of the graph comes out to be a non zero value. Hence we would no longer encounter dead neurons in that region. Hence it solves the vanishing gradient problem."
   ]
  },
  {
   "cell_type": "markdown",
   "id": "f476d0c8-9036-41a6-abf5-88f2f2eaf49a",
   "metadata": {},
   "source": [
    "## Q8. What is the purpose of the softmax activation function? When is it commonly used?"
   ]
  },
  {
   "cell_type": "markdown",
   "id": "6046d7ab-23dd-4126-b6b6-a23e3480200b",
   "metadata": {},
   "source": [
    "The softmax function is a mathematical function that converts a vector of real numbers into a probability distribution. It exponentiates each element, making them positive, and then normalizes them by dividing by the sum of all exponentiated values. This ensures that the output probabilities add up to one, making it suitable for multiclass classification tasks.\n"
   ]
  },
  {
   "attachments": {
    "9e98eed9-c965-4417-9567-37fa5f834491.png": {
     "image/png": "[encoded data removed]"
    }
   },
   "cell_type": "markdown",
   "id": "1e4a7447-677f-4eba-af11-133febfeb558",
   "metadata": {},
   "source": [
    "![image.png](attachment:9e98eed9-c965-4417-9567-37fa5f834491.png)"
   ]
  },
  {
   "cell_type": "markdown",
   "id": "262fd3ed-f961-4bc7-8745-4da2493017a4",
   "metadata": {},
   "source": [
    "## Q9. What is the hyperbolic tangent (tanh) activation function? How does it compare to the sigmoid function?"
   ]
  },
  {
   "cell_type": "markdown",
   "id": "cbf89bc9-fffe-4b5f-a023-a065d24e46e6",
   "metadata": {},
   "source": [
    "- The hyperbolic tangent function is a zero-centered function and its range lies between -1 to 1\n",
    "- As this function is zero centered, this makes it easier to model inputs that have strongly negative, neutral, and strongly positive values\n",
    "- It is advised to use tanh function instead of sigmoid function if your output is other than 0 and 1"
   ]
  },
  {
   "cell_type": "code",
   "execution_count": null,
   "id": "729f20f0-9abc-4ce1-b2cb-65763135485e",
   "metadata": {},
   "outputs": [],
   "source": []
  }
 ],
 "metadata": {
  "kernelspec": {
   "display_name": "Python 3 (ipykernel)",
   "language": "python",
   "name": "python3"
  },
  "language_info": {
   "codemirror_mode": {
    "name": "ipython",
    "version": 3
   },
   "file_extension": ".py",
   "mimetype": "text/x-python",
   "name": "python",
   "nbconvert_exporter": "python",
   "pygments_lexer": "ipython3",
   "version": "3.10.8"
  }
 },
 "nbformat": 4,
 "nbformat_minor": 5
}
